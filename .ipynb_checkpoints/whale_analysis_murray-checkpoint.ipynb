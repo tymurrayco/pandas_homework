{
 "cells": [
  {
   "cell_type": "markdown",
   "metadata": {},
   "source": [
    " #  A Whale off the Port(folio)\n",
    " ---\n",
    "\n",
    " In this assignment, you'll get to use what you've learned this week to evaluate the performance among various algorithmic, hedge, and mutual fund portfolios and compare them against the S&P 500 Index."
   ]
  },
  {
   "cell_type": "code",
   "execution_count": 1,
   "metadata": {},
   "outputs": [],
   "source": [
    "# Initial imports\n",
    "import pandas as pd\n",
    "import numpy as np\n",
    "import datetime as dt\n",
    "from pathlib import Path\n",
    "import seaborn as sns\n",
    "\n",
    "%matplotlib inline"
   ]
  },
  {
   "cell_type": "code",
   "execution_count": 14,
   "metadata": {},
   "outputs": [],
   "source": [
    "# Set File Paths\n",
    "whale_data = Path('Resources/whale_returns.csv')\n",
    "algo_data = Path('Resources/algo_returns.csv')\n",
    "sp500_data = Path('Resources/sp500_history.csv')"
   ]
  },
  {
   "cell_type": "markdown",
   "metadata": {},
   "source": [
    "# Data Cleaning\n",
    "\n",
    "In this section, you will need to read the CSV files into DataFrames and perform any necessary data cleaning steps. After cleaning, combine all DataFrames into a single DataFrame.\n",
    "\n",
    "Files:\n",
    "\n",
    "* `whale_returns.csv`: Contains returns of some famous \"whale\" investors' portfolios.\n",
    "\n",
    "* `algo_returns.csv`: Contains returns from the in-house trading algorithms from Harold's company.\n",
    "\n",
    "* `sp500_history.csv`: Contains historical closing prices of the S&P 500 Index."
   ]
  },
  {
   "cell_type": "markdown",
   "metadata": {},
   "source": [
    "\n",
    "## Whale Returns\n",
    "\n",
    "Read the Whale Portfolio daily returns and clean the data"
   ]
  },
  {
   "cell_type": "code",
   "execution_count": 15,
   "metadata": {},
   "outputs": [
    {
     "data": {
      "text/html": [
       "<div>\n",
       "<style scoped>\n",
       "    .dataframe tbody tr th:only-of-type {\n",
       "        vertical-align: middle;\n",
       "    }\n",
       "\n",
       "    .dataframe tbody tr th {\n",
       "        vertical-align: top;\n",
       "    }\n",
       "\n",
       "    .dataframe thead th {\n",
       "        text-align: right;\n",
       "    }\n",
       "</style>\n",
       "<table border=\"1\" class=\"dataframe\">\n",
       "  <thead>\n",
       "    <tr style=\"text-align: right;\">\n",
       "      <th></th>\n",
       "      <th>SOROS FUND MANAGEMENT LLC</th>\n",
       "      <th>PAULSON &amp; CO.INC.</th>\n",
       "      <th>TIGER GLOBAL MANAGEMENT LLC</th>\n",
       "      <th>BERKSHIRE HATHAWAY INC</th>\n",
       "    </tr>\n",
       "    <tr>\n",
       "      <th>Date</th>\n",
       "      <th></th>\n",
       "      <th></th>\n",
       "      <th></th>\n",
       "      <th></th>\n",
       "    </tr>\n",
       "  </thead>\n",
       "  <tbody>\n",
       "    <tr>\n",
       "      <th>2015-03-02</th>\n",
       "      <td>NaN</td>\n",
       "      <td>NaN</td>\n",
       "      <td>NaN</td>\n",
       "      <td>NaN</td>\n",
       "    </tr>\n",
       "    <tr>\n",
       "      <th>2015-03-03</th>\n",
       "      <td>-0.001266</td>\n",
       "      <td>-0.004981</td>\n",
       "      <td>-0.000496</td>\n",
       "      <td>-0.006569</td>\n",
       "    </tr>\n",
       "    <tr>\n",
       "      <th>2015-03-04</th>\n",
       "      <td>0.002230</td>\n",
       "      <td>0.003241</td>\n",
       "      <td>-0.002534</td>\n",
       "      <td>0.004213</td>\n",
       "    </tr>\n",
       "    <tr>\n",
       "      <th>2015-03-05</th>\n",
       "      <td>0.004016</td>\n",
       "      <td>0.004076</td>\n",
       "      <td>0.002355</td>\n",
       "      <td>0.006726</td>\n",
       "    </tr>\n",
       "    <tr>\n",
       "      <th>2015-03-06</th>\n",
       "      <td>-0.007905</td>\n",
       "      <td>-0.003574</td>\n",
       "      <td>-0.008481</td>\n",
       "      <td>-0.013098</td>\n",
       "    </tr>\n",
       "  </tbody>\n",
       "</table>\n",
       "</div>"
      ],
      "text/plain": [
       "            SOROS FUND MANAGEMENT LLC  PAULSON & CO.INC.   \\\n",
       "Date                                                        \n",
       "2015-03-02                        NaN                 NaN   \n",
       "2015-03-03                  -0.001266           -0.004981   \n",
       "2015-03-04                   0.002230            0.003241   \n",
       "2015-03-05                   0.004016            0.004076   \n",
       "2015-03-06                  -0.007905           -0.003574   \n",
       "\n",
       "            TIGER GLOBAL MANAGEMENT LLC  BERKSHIRE HATHAWAY INC  \n",
       "Date                                                             \n",
       "2015-03-02                          NaN                     NaN  \n",
       "2015-03-03                    -0.000496               -0.006569  \n",
       "2015-03-04                    -0.002534                0.004213  \n",
       "2015-03-05                     0.002355                0.006726  \n",
       "2015-03-06                    -0.008481               -0.013098  "
      ]
     },
     "execution_count": 15,
     "metadata": {},
     "output_type": "execute_result"
    }
   ],
   "source": [
    "# Reading whale returns\n",
    "whale_df = pd.read_csv(whale_data, index_col = 'Date', parse_dates=True, infer_datetime_format=True)\n",
    "whale_df.sort_index()\n",
    "whale_df.head()\n"
   ]
  },
  {
   "cell_type": "code",
   "execution_count": 16,
   "metadata": {},
   "outputs": [
    {
     "data": {
      "text/html": [
       "<div>\n",
       "<style scoped>\n",
       "    .dataframe tbody tr th:only-of-type {\n",
       "        vertical-align: middle;\n",
       "    }\n",
       "\n",
       "    .dataframe tbody tr th {\n",
       "        vertical-align: top;\n",
       "    }\n",
       "\n",
       "    .dataframe thead th {\n",
       "        text-align: right;\n",
       "    }\n",
       "</style>\n",
       "<table border=\"1\" class=\"dataframe\">\n",
       "  <thead>\n",
       "    <tr style=\"text-align: right;\">\n",
       "      <th></th>\n",
       "      <th>Soros</th>\n",
       "      <th>Paulson</th>\n",
       "      <th>Tiger</th>\n",
       "      <th>Berkshire</th>\n",
       "    </tr>\n",
       "    <tr>\n",
       "      <th>Date</th>\n",
       "      <th></th>\n",
       "      <th></th>\n",
       "      <th></th>\n",
       "      <th></th>\n",
       "    </tr>\n",
       "  </thead>\n",
       "  <tbody>\n",
       "    <tr>\n",
       "      <th>2015-03-02</th>\n",
       "      <td>NaN</td>\n",
       "      <td>NaN</td>\n",
       "      <td>NaN</td>\n",
       "      <td>NaN</td>\n",
       "    </tr>\n",
       "    <tr>\n",
       "      <th>2015-03-03</th>\n",
       "      <td>-0.001266</td>\n",
       "      <td>-0.004981</td>\n",
       "      <td>-0.000496</td>\n",
       "      <td>-0.006569</td>\n",
       "    </tr>\n",
       "    <tr>\n",
       "      <th>2015-03-04</th>\n",
       "      <td>0.002230</td>\n",
       "      <td>0.003241</td>\n",
       "      <td>-0.002534</td>\n",
       "      <td>0.004213</td>\n",
       "    </tr>\n",
       "    <tr>\n",
       "      <th>2015-03-05</th>\n",
       "      <td>0.004016</td>\n",
       "      <td>0.004076</td>\n",
       "      <td>0.002355</td>\n",
       "      <td>0.006726</td>\n",
       "    </tr>\n",
       "    <tr>\n",
       "      <th>2015-03-06</th>\n",
       "      <td>-0.007905</td>\n",
       "      <td>-0.003574</td>\n",
       "      <td>-0.008481</td>\n",
       "      <td>-0.013098</td>\n",
       "    </tr>\n",
       "    <tr>\n",
       "      <th>...</th>\n",
       "      <td>...</td>\n",
       "      <td>...</td>\n",
       "      <td>...</td>\n",
       "      <td>...</td>\n",
       "    </tr>\n",
       "    <tr>\n",
       "      <th>2019-04-25</th>\n",
       "      <td>-0.000285</td>\n",
       "      <td>-0.001291</td>\n",
       "      <td>-0.005153</td>\n",
       "      <td>0.004848</td>\n",
       "    </tr>\n",
       "    <tr>\n",
       "      <th>2019-04-26</th>\n",
       "      <td>0.008149</td>\n",
       "      <td>0.009162</td>\n",
       "      <td>0.012355</td>\n",
       "      <td>0.010434</td>\n",
       "    </tr>\n",
       "    <tr>\n",
       "      <th>2019-04-29</th>\n",
       "      <td>0.001254</td>\n",
       "      <td>0.002719</td>\n",
       "      <td>0.006251</td>\n",
       "      <td>0.005223</td>\n",
       "    </tr>\n",
       "    <tr>\n",
       "      <th>2019-04-30</th>\n",
       "      <td>-0.001295</td>\n",
       "      <td>-0.002211</td>\n",
       "      <td>-0.000259</td>\n",
       "      <td>-0.003702</td>\n",
       "    </tr>\n",
       "    <tr>\n",
       "      <th>2019-05-01</th>\n",
       "      <td>-0.005847</td>\n",
       "      <td>-0.001341</td>\n",
       "      <td>-0.007936</td>\n",
       "      <td>-0.007833</td>\n",
       "    </tr>\n",
       "  </tbody>\n",
       "</table>\n",
       "<p>1060 rows × 4 columns</p>\n",
       "</div>"
      ],
      "text/plain": [
       "               Soros   Paulson     Tiger  Berkshire\n",
       "Date                                               \n",
       "2015-03-02       NaN       NaN       NaN        NaN\n",
       "2015-03-03 -0.001266 -0.004981 -0.000496  -0.006569\n",
       "2015-03-04  0.002230  0.003241 -0.002534   0.004213\n",
       "2015-03-05  0.004016  0.004076  0.002355   0.006726\n",
       "2015-03-06 -0.007905 -0.003574 -0.008481  -0.013098\n",
       "...              ...       ...       ...        ...\n",
       "2019-04-25 -0.000285 -0.001291 -0.005153   0.004848\n",
       "2019-04-26  0.008149  0.009162  0.012355   0.010434\n",
       "2019-04-29  0.001254  0.002719  0.006251   0.005223\n",
       "2019-04-30 -0.001295 -0.002211 -0.000259  -0.003702\n",
       "2019-05-01 -0.005847 -0.001341 -0.007936  -0.007833\n",
       "\n",
       "[1060 rows x 4 columns]"
      ]
     },
     "execution_count": 16,
     "metadata": {},
     "output_type": "execute_result"
    }
   ],
   "source": [
    "columns = ['Soros','Paulson','Tiger','Berkshire']\n",
    "whale_df.columns = columns\n",
    "whale_df"
   ]
  },
  {
   "cell_type": "code",
   "execution_count": 17,
   "metadata": {},
   "outputs": [
    {
     "data": {
      "text/plain": [
       "Soros        1\n",
       "Paulson      1\n",
       "Tiger        1\n",
       "Berkshire    1\n",
       "dtype: int64"
      ]
     },
     "execution_count": 17,
     "metadata": {},
     "output_type": "execute_result"
    }
   ],
   "source": [
    "# Count nulls\n",
    "whale_df.isnull().sum()"
   ]
  },
  {
   "cell_type": "code",
   "execution_count": 18,
   "metadata": {},
   "outputs": [
    {
     "data": {
      "text/html": [
       "<div>\n",
       "<style scoped>\n",
       "    .dataframe tbody tr th:only-of-type {\n",
       "        vertical-align: middle;\n",
       "    }\n",
       "\n",
       "    .dataframe tbody tr th {\n",
       "        vertical-align: top;\n",
       "    }\n",
       "\n",
       "    .dataframe thead th {\n",
       "        text-align: right;\n",
       "    }\n",
       "</style>\n",
       "<table border=\"1\" class=\"dataframe\">\n",
       "  <thead>\n",
       "    <tr style=\"text-align: right;\">\n",
       "      <th></th>\n",
       "      <th>Soros</th>\n",
       "      <th>Paulson</th>\n",
       "      <th>Tiger</th>\n",
       "      <th>Berkshire</th>\n",
       "    </tr>\n",
       "    <tr>\n",
       "      <th>Date</th>\n",
       "      <th></th>\n",
       "      <th></th>\n",
       "      <th></th>\n",
       "      <th></th>\n",
       "    </tr>\n",
       "  </thead>\n",
       "  <tbody>\n",
       "    <tr>\n",
       "      <th>2015-03-03</th>\n",
       "      <td>-0.001266</td>\n",
       "      <td>-0.004981</td>\n",
       "      <td>-0.000496</td>\n",
       "      <td>-0.006569</td>\n",
       "    </tr>\n",
       "    <tr>\n",
       "      <th>2015-03-04</th>\n",
       "      <td>0.002230</td>\n",
       "      <td>0.003241</td>\n",
       "      <td>-0.002534</td>\n",
       "      <td>0.004213</td>\n",
       "    </tr>\n",
       "    <tr>\n",
       "      <th>2015-03-05</th>\n",
       "      <td>0.004016</td>\n",
       "      <td>0.004076</td>\n",
       "      <td>0.002355</td>\n",
       "      <td>0.006726</td>\n",
       "    </tr>\n",
       "    <tr>\n",
       "      <th>2015-03-06</th>\n",
       "      <td>-0.007905</td>\n",
       "      <td>-0.003574</td>\n",
       "      <td>-0.008481</td>\n",
       "      <td>-0.013098</td>\n",
       "    </tr>\n",
       "    <tr>\n",
       "      <th>2015-03-09</th>\n",
       "      <td>0.000582</td>\n",
       "      <td>0.004225</td>\n",
       "      <td>0.005843</td>\n",
       "      <td>-0.001652</td>\n",
       "    </tr>\n",
       "  </tbody>\n",
       "</table>\n",
       "</div>"
      ],
      "text/plain": [
       "               Soros   Paulson     Tiger  Berkshire\n",
       "Date                                               \n",
       "2015-03-03 -0.001266 -0.004981 -0.000496  -0.006569\n",
       "2015-03-04  0.002230  0.003241 -0.002534   0.004213\n",
       "2015-03-05  0.004016  0.004076  0.002355   0.006726\n",
       "2015-03-06 -0.007905 -0.003574 -0.008481  -0.013098\n",
       "2015-03-09  0.000582  0.004225  0.005843  -0.001652"
      ]
     },
     "execution_count": 18,
     "metadata": {},
     "output_type": "execute_result"
    }
   ],
   "source": [
    "# Drop nulls\n",
    "whale_df = whale_df.dropna()\n",
    "whale_df.drop_duplicates()\n",
    "whale_df.head()"
   ]
  },
  {
   "cell_type": "markdown",
   "metadata": {},
   "source": [
    "## Algorithmic Daily Returns\n",
    "\n",
    "Read the algorithmic daily returns and clean the data"
   ]
  },
  {
   "cell_type": "code",
   "execution_count": 19,
   "metadata": {},
   "outputs": [
    {
     "data": {
      "text/html": [
       "<div>\n",
       "<style scoped>\n",
       "    .dataframe tbody tr th:only-of-type {\n",
       "        vertical-align: middle;\n",
       "    }\n",
       "\n",
       "    .dataframe tbody tr th {\n",
       "        vertical-align: top;\n",
       "    }\n",
       "\n",
       "    .dataframe thead th {\n",
       "        text-align: right;\n",
       "    }\n",
       "</style>\n",
       "<table border=\"1\" class=\"dataframe\">\n",
       "  <thead>\n",
       "    <tr style=\"text-align: right;\">\n",
       "      <th></th>\n",
       "      <th>Algo 1</th>\n",
       "      <th>Algo 2</th>\n",
       "    </tr>\n",
       "    <tr>\n",
       "      <th>Date</th>\n",
       "      <th></th>\n",
       "      <th></th>\n",
       "    </tr>\n",
       "  </thead>\n",
       "  <tbody>\n",
       "    <tr>\n",
       "      <th>2014-05-28</th>\n",
       "      <td>0.001745</td>\n",
       "      <td>NaN</td>\n",
       "    </tr>\n",
       "    <tr>\n",
       "      <th>2014-05-29</th>\n",
       "      <td>0.003978</td>\n",
       "      <td>NaN</td>\n",
       "    </tr>\n",
       "    <tr>\n",
       "      <th>2014-05-30</th>\n",
       "      <td>0.004464</td>\n",
       "      <td>NaN</td>\n",
       "    </tr>\n",
       "    <tr>\n",
       "      <th>2014-06-02</th>\n",
       "      <td>0.005692</td>\n",
       "      <td>NaN</td>\n",
       "    </tr>\n",
       "    <tr>\n",
       "      <th>2014-06-03</th>\n",
       "      <td>0.005292</td>\n",
       "      <td>NaN</td>\n",
       "    </tr>\n",
       "  </tbody>\n",
       "</table>\n",
       "</div>"
      ],
      "text/plain": [
       "              Algo 1  Algo 2\n",
       "Date                        \n",
       "2014-05-28  0.001745     NaN\n",
       "2014-05-29  0.003978     NaN\n",
       "2014-05-30  0.004464     NaN\n",
       "2014-06-02  0.005692     NaN\n",
       "2014-06-03  0.005292     NaN"
      ]
     },
     "execution_count": 19,
     "metadata": {},
     "output_type": "execute_result"
    }
   ],
   "source": [
    "# Reading algorithmic returns\n",
    "algo_df = pd.read_csv(algo_data, index_col = 'Date', parse_dates=True, infer_datetime_format=True)\n",
    "algo_df = algo_df.sort_index()\n",
    "algo_df.head()\n"
   ]
  },
  {
   "cell_type": "code",
   "execution_count": 20,
   "metadata": {},
   "outputs": [
    {
     "data": {
      "text/plain": [
       "Algo 1    0\n",
       "Algo 2    6\n",
       "dtype: int64"
      ]
     },
     "execution_count": 20,
     "metadata": {},
     "output_type": "execute_result"
    }
   ],
   "source": [
    "# Count nulls\n",
    "algo_df.isnull().sum()"
   ]
  },
  {
   "cell_type": "code",
   "execution_count": 21,
   "metadata": {},
   "outputs": [
    {
     "data": {
      "text/html": [
       "<div>\n",
       "<style scoped>\n",
       "    .dataframe tbody tr th:only-of-type {\n",
       "        vertical-align: middle;\n",
       "    }\n",
       "\n",
       "    .dataframe tbody tr th {\n",
       "        vertical-align: top;\n",
       "    }\n",
       "\n",
       "    .dataframe thead th {\n",
       "        text-align: right;\n",
       "    }\n",
       "</style>\n",
       "<table border=\"1\" class=\"dataframe\">\n",
       "  <thead>\n",
       "    <tr style=\"text-align: right;\">\n",
       "      <th></th>\n",
       "      <th>Algo 1</th>\n",
       "      <th>Algo 2</th>\n",
       "    </tr>\n",
       "    <tr>\n",
       "      <th>Date</th>\n",
       "      <th></th>\n",
       "      <th></th>\n",
       "    </tr>\n",
       "  </thead>\n",
       "  <tbody>\n",
       "    <tr>\n",
       "      <th>2014-06-05</th>\n",
       "      <td>0.004062</td>\n",
       "      <td>0.013285</td>\n",
       "    </tr>\n",
       "    <tr>\n",
       "      <th>2014-06-06</th>\n",
       "      <td>0.001857</td>\n",
       "      <td>0.008284</td>\n",
       "    </tr>\n",
       "    <tr>\n",
       "      <th>2014-06-09</th>\n",
       "      <td>-0.005012</td>\n",
       "      <td>0.005668</td>\n",
       "    </tr>\n",
       "    <tr>\n",
       "      <th>2014-06-10</th>\n",
       "      <td>0.004406</td>\n",
       "      <td>-0.000735</td>\n",
       "    </tr>\n",
       "    <tr>\n",
       "      <th>2014-06-11</th>\n",
       "      <td>0.004760</td>\n",
       "      <td>-0.003761</td>\n",
       "    </tr>\n",
       "  </tbody>\n",
       "</table>\n",
       "</div>"
      ],
      "text/plain": [
       "              Algo 1    Algo 2\n",
       "Date                          \n",
       "2014-06-05  0.004062  0.013285\n",
       "2014-06-06  0.001857  0.008284\n",
       "2014-06-09 -0.005012  0.005668\n",
       "2014-06-10  0.004406 -0.000735\n",
       "2014-06-11  0.004760 -0.003761"
      ]
     },
     "execution_count": 21,
     "metadata": {},
     "output_type": "execute_result"
    }
   ],
   "source": [
    "# Drop nulls\n",
    "algo_df = algo_df.dropna().copy()\n",
    "algo_df.head()"
   ]
  },
  {
   "cell_type": "code",
   "execution_count": 22,
   "metadata": {},
   "outputs": [
    {
     "data": {
      "text/plain": [
       "Algo 1    0\n",
       "Algo 2    0\n",
       "dtype: int64"
      ]
     },
     "execution_count": 22,
     "metadata": {},
     "output_type": "execute_result"
    }
   ],
   "source": [
    "algo_df.isnull().sum()"
   ]
  },
  {
   "cell_type": "markdown",
   "metadata": {},
   "source": [
    "## S&P 500 Returns\n",
    "\n",
    "Read the S&P 500 historic closing prices and create a new daily returns DataFrame from the data. "
   ]
  },
  {
   "cell_type": "code",
   "execution_count": 23,
   "metadata": {},
   "outputs": [
    {
     "data": {
      "text/html": [
       "<div>\n",
       "<style scoped>\n",
       "    .dataframe tbody tr th:only-of-type {\n",
       "        vertical-align: middle;\n",
       "    }\n",
       "\n",
       "    .dataframe tbody tr th {\n",
       "        vertical-align: top;\n",
       "    }\n",
       "\n",
       "    .dataframe thead th {\n",
       "        text-align: right;\n",
       "    }\n",
       "</style>\n",
       "<table border=\"1\" class=\"dataframe\">\n",
       "  <thead>\n",
       "    <tr style=\"text-align: right;\">\n",
       "      <th></th>\n",
       "      <th>Close</th>\n",
       "    </tr>\n",
       "    <tr>\n",
       "      <th>Date</th>\n",
       "      <th></th>\n",
       "    </tr>\n",
       "  </thead>\n",
       "  <tbody>\n",
       "    <tr>\n",
       "      <th>2019-04-23</th>\n",
       "      <td>$2933.68</td>\n",
       "    </tr>\n",
       "    <tr>\n",
       "      <th>2019-04-22</th>\n",
       "      <td>$2907.97</td>\n",
       "    </tr>\n",
       "    <tr>\n",
       "      <th>2019-04-18</th>\n",
       "      <td>$2905.03</td>\n",
       "    </tr>\n",
       "    <tr>\n",
       "      <th>2019-04-17</th>\n",
       "      <td>$2900.45</td>\n",
       "    </tr>\n",
       "    <tr>\n",
       "      <th>2019-04-16</th>\n",
       "      <td>$2907.06</td>\n",
       "    </tr>\n",
       "  </tbody>\n",
       "</table>\n",
       "</div>"
      ],
      "text/plain": [
       "               Close\n",
       "Date                \n",
       "2019-04-23  $2933.68\n",
       "2019-04-22  $2907.97\n",
       "2019-04-18  $2905.03\n",
       "2019-04-17  $2900.45\n",
       "2019-04-16  $2907.06"
      ]
     },
     "execution_count": 23,
     "metadata": {},
     "output_type": "execute_result"
    }
   ],
   "source": [
    "# Reading S&P 500 Closing Prices\n",
    "sp500_df = pd.read_csv(sp500_data, index_col = 'Date', parse_dates=True, infer_datetime_format=True)\n",
    "sp500_df.sort_index()\n",
    "sp500_df.head()"
   ]
  },
  {
   "cell_type": "code",
   "execution_count": 24,
   "metadata": {},
   "outputs": [
    {
     "data": {
      "text/plain": [
       "dtype('O')"
      ]
     },
     "execution_count": 24,
     "metadata": {},
     "output_type": "execute_result"
    }
   ],
   "source": [
    "# Check Data Types\n",
    "sp500_df['Close'].dtype"
   ]
  },
  {
   "cell_type": "code",
   "execution_count": 25,
   "metadata": {},
   "outputs": [
    {
     "name": "stderr",
     "output_type": "stream",
     "text": [
      "<ipython-input-25-9c8248f0405b>:2: FutureWarning: The default value of regex will change from True to False in a future version. In addition, single character regular expressions will*not* be treated as literal strings when regex=True.\n",
      "  sp500_df['Close'] = sp500_df['Close'].str.replace('$','')\n"
     ]
    },
    {
     "data": {
      "text/plain": [
       "dtype('float64')"
      ]
     },
     "execution_count": 25,
     "metadata": {},
     "output_type": "execute_result"
    }
   ],
   "source": [
    "# Fix Data Types\n",
    "sp500_df['Close'] = sp500_df['Close'].str.replace('$','')\n",
    "sp500_df['Close']\n",
    "\n",
    "sp500_df['Close'] = sp500_df['Close'].astype('float')\n",
    "sp500_df['Close'].dtype"
   ]
  },
  {
   "cell_type": "code",
   "execution_count": 26,
   "metadata": {},
   "outputs": [
    {
     "data": {
      "text/html": [
       "<div>\n",
       "<style scoped>\n",
       "    .dataframe tbody tr th:only-of-type {\n",
       "        vertical-align: middle;\n",
       "    }\n",
       "\n",
       "    .dataframe tbody tr th {\n",
       "        vertical-align: top;\n",
       "    }\n",
       "\n",
       "    .dataframe thead th {\n",
       "        text-align: right;\n",
       "    }\n",
       "</style>\n",
       "<table border=\"1\" class=\"dataframe\">\n",
       "  <thead>\n",
       "    <tr style=\"text-align: right;\">\n",
       "      <th></th>\n",
       "      <th>Close</th>\n",
       "    </tr>\n",
       "    <tr>\n",
       "      <th>Date</th>\n",
       "      <th></th>\n",
       "    </tr>\n",
       "  </thead>\n",
       "  <tbody>\n",
       "    <tr>\n",
       "      <th>2019-04-23</th>\n",
       "      <td>NaN</td>\n",
       "    </tr>\n",
       "    <tr>\n",
       "      <th>2019-04-22</th>\n",
       "      <td>-0.008764</td>\n",
       "    </tr>\n",
       "    <tr>\n",
       "      <th>2019-04-18</th>\n",
       "      <td>-0.001011</td>\n",
       "    </tr>\n",
       "    <tr>\n",
       "      <th>2019-04-17</th>\n",
       "      <td>-0.001577</td>\n",
       "    </tr>\n",
       "    <tr>\n",
       "      <th>2019-04-16</th>\n",
       "      <td>0.002279</td>\n",
       "    </tr>\n",
       "  </tbody>\n",
       "</table>\n",
       "</div>"
      ],
      "text/plain": [
       "               Close\n",
       "Date                \n",
       "2019-04-23       NaN\n",
       "2019-04-22 -0.008764\n",
       "2019-04-18 -0.001011\n",
       "2019-04-17 -0.001577\n",
       "2019-04-16  0.002279"
      ]
     },
     "execution_count": 26,
     "metadata": {},
     "output_type": "execute_result"
    }
   ],
   "source": [
    "# Calculate Daily Returns\n",
    "daily_returns_sp500 = sp500_df.pct_change()\n",
    "daily_returns_sp500.head()"
   ]
  },
  {
   "cell_type": "code",
   "execution_count": 27,
   "metadata": {},
   "outputs": [
    {
     "data": {
      "text/plain": [
       "Close    1\n",
       "dtype: int64"
      ]
     },
     "execution_count": 27,
     "metadata": {},
     "output_type": "execute_result"
    }
   ],
   "source": [
    "# Drop nulls\n",
    "daily_returns_sp500.isnull().sum()"
   ]
  },
  {
   "cell_type": "code",
   "execution_count": 28,
   "metadata": {},
   "outputs": [
    {
     "data": {
      "text/html": [
       "<div>\n",
       "<style scoped>\n",
       "    .dataframe tbody tr th:only-of-type {\n",
       "        vertical-align: middle;\n",
       "    }\n",
       "\n",
       "    .dataframe tbody tr th {\n",
       "        vertical-align: top;\n",
       "    }\n",
       "\n",
       "    .dataframe thead th {\n",
       "        text-align: right;\n",
       "    }\n",
       "</style>\n",
       "<table border=\"1\" class=\"dataframe\">\n",
       "  <thead>\n",
       "    <tr style=\"text-align: right;\">\n",
       "      <th></th>\n",
       "      <th>Close</th>\n",
       "    </tr>\n",
       "    <tr>\n",
       "      <th>Date</th>\n",
       "      <th></th>\n",
       "    </tr>\n",
       "  </thead>\n",
       "  <tbody>\n",
       "    <tr>\n",
       "      <th>2019-04-22</th>\n",
       "      <td>-0.008764</td>\n",
       "    </tr>\n",
       "    <tr>\n",
       "      <th>2019-04-18</th>\n",
       "      <td>-0.001011</td>\n",
       "    </tr>\n",
       "    <tr>\n",
       "      <th>2019-04-17</th>\n",
       "      <td>-0.001577</td>\n",
       "    </tr>\n",
       "    <tr>\n",
       "      <th>2019-04-16</th>\n",
       "      <td>0.002279</td>\n",
       "    </tr>\n",
       "    <tr>\n",
       "      <th>2019-04-15</th>\n",
       "      <td>-0.000509</td>\n",
       "    </tr>\n",
       "  </tbody>\n",
       "</table>\n",
       "</div>"
      ],
      "text/plain": [
       "               Close\n",
       "Date                \n",
       "2019-04-22 -0.008764\n",
       "2019-04-18 -0.001011\n",
       "2019-04-17 -0.001577\n",
       "2019-04-16  0.002279\n",
       "2019-04-15 -0.000509"
      ]
     },
     "execution_count": 28,
     "metadata": {},
     "output_type": "execute_result"
    }
   ],
   "source": [
    "daily_returns_sp500.dropna(inplace=True)\n",
    "daily_returns_sp500.head()"
   ]
  },
  {
   "cell_type": "code",
   "execution_count": 29,
   "metadata": {},
   "outputs": [
    {
     "data": {
      "text/html": [
       "<div>\n",
       "<style scoped>\n",
       "    .dataframe tbody tr th:only-of-type {\n",
       "        vertical-align: middle;\n",
       "    }\n",
       "\n",
       "    .dataframe tbody tr th {\n",
       "        vertical-align: top;\n",
       "    }\n",
       "\n",
       "    .dataframe thead th {\n",
       "        text-align: right;\n",
       "    }\n",
       "</style>\n",
       "<table border=\"1\" class=\"dataframe\">\n",
       "  <thead>\n",
       "    <tr style=\"text-align: right;\">\n",
       "      <th></th>\n",
       "      <th>SP500 Returns</th>\n",
       "    </tr>\n",
       "    <tr>\n",
       "      <th>Date</th>\n",
       "      <th></th>\n",
       "    </tr>\n",
       "  </thead>\n",
       "  <tbody>\n",
       "    <tr>\n",
       "      <th>2019-04-22</th>\n",
       "      <td>-0.008764</td>\n",
       "    </tr>\n",
       "    <tr>\n",
       "      <th>2019-04-18</th>\n",
       "      <td>-0.001011</td>\n",
       "    </tr>\n",
       "    <tr>\n",
       "      <th>2019-04-17</th>\n",
       "      <td>-0.001577</td>\n",
       "    </tr>\n",
       "    <tr>\n",
       "      <th>2019-04-16</th>\n",
       "      <td>0.002279</td>\n",
       "    </tr>\n",
       "    <tr>\n",
       "      <th>2019-04-15</th>\n",
       "      <td>-0.000509</td>\n",
       "    </tr>\n",
       "    <tr>\n",
       "      <th>...</th>\n",
       "      <td>...</td>\n",
       "    </tr>\n",
       "    <tr>\n",
       "      <th>2012-10-05</th>\n",
       "      <td>0.003469</td>\n",
       "    </tr>\n",
       "    <tr>\n",
       "      <th>2012-10-04</th>\n",
       "      <td>0.000322</td>\n",
       "    </tr>\n",
       "    <tr>\n",
       "      <th>2012-10-03</th>\n",
       "      <td>-0.007123</td>\n",
       "    </tr>\n",
       "    <tr>\n",
       "      <th>2012-10-02</th>\n",
       "      <td>-0.003611</td>\n",
       "    </tr>\n",
       "    <tr>\n",
       "      <th>2012-10-01</th>\n",
       "      <td>-0.000872</td>\n",
       "    </tr>\n",
       "  </tbody>\n",
       "</table>\n",
       "<p>1648 rows × 1 columns</p>\n",
       "</div>"
      ],
      "text/plain": [
       "            SP500 Returns\n",
       "Date                     \n",
       "2019-04-22      -0.008764\n",
       "2019-04-18      -0.001011\n",
       "2019-04-17      -0.001577\n",
       "2019-04-16       0.002279\n",
       "2019-04-15      -0.000509\n",
       "...                   ...\n",
       "2012-10-05       0.003469\n",
       "2012-10-04       0.000322\n",
       "2012-10-03      -0.007123\n",
       "2012-10-02      -0.003611\n",
       "2012-10-01      -0.000872\n",
       "\n",
       "[1648 rows x 1 columns]"
      ]
     },
     "execution_count": 29,
     "metadata": {},
     "output_type": "execute_result"
    }
   ],
   "source": [
    "# Rename `Close` Column to be specific to this portfolio.\n",
    "daily_returns_sp500 = daily_returns_sp500.rename(columns={\"Close\": \"SP500 Returns\"})\n",
    "daily_returns_sp500"
   ]
  },
  {
   "cell_type": "markdown",
   "metadata": {},
   "source": [
    "## Combine Whale, Algorithmic, and S&P 500 Returns"
   ]
  },
  {
   "cell_type": "code",
   "execution_count": 30,
   "metadata": {},
   "outputs": [
    {
     "data": {
      "text/html": [
       "<div>\n",
       "<style scoped>\n",
       "    .dataframe tbody tr th:only-of-type {\n",
       "        vertical-align: middle;\n",
       "    }\n",
       "\n",
       "    .dataframe tbody tr th {\n",
       "        vertical-align: top;\n",
       "    }\n",
       "\n",
       "    .dataframe thead th {\n",
       "        text-align: right;\n",
       "    }\n",
       "</style>\n",
       "<table border=\"1\" class=\"dataframe\">\n",
       "  <thead>\n",
       "    <tr style=\"text-align: right;\">\n",
       "      <th></th>\n",
       "      <th>Soros</th>\n",
       "      <th>Paulson</th>\n",
       "      <th>Tiger</th>\n",
       "      <th>Berkshire</th>\n",
       "    </tr>\n",
       "    <tr>\n",
       "      <th>Date</th>\n",
       "      <th></th>\n",
       "      <th></th>\n",
       "      <th></th>\n",
       "      <th></th>\n",
       "    </tr>\n",
       "  </thead>\n",
       "  <tbody>\n",
       "    <tr>\n",
       "      <th>2015-03-03</th>\n",
       "      <td>-0.001266</td>\n",
       "      <td>-0.004981</td>\n",
       "      <td>-0.000496</td>\n",
       "      <td>-0.006569</td>\n",
       "    </tr>\n",
       "    <tr>\n",
       "      <th>2015-03-04</th>\n",
       "      <td>0.002230</td>\n",
       "      <td>0.003241</td>\n",
       "      <td>-0.002534</td>\n",
       "      <td>0.004213</td>\n",
       "    </tr>\n",
       "    <tr>\n",
       "      <th>2015-03-05</th>\n",
       "      <td>0.004016</td>\n",
       "      <td>0.004076</td>\n",
       "      <td>0.002355</td>\n",
       "      <td>0.006726</td>\n",
       "    </tr>\n",
       "    <tr>\n",
       "      <th>2015-03-06</th>\n",
       "      <td>-0.007905</td>\n",
       "      <td>-0.003574</td>\n",
       "      <td>-0.008481</td>\n",
       "      <td>-0.013098</td>\n",
       "    </tr>\n",
       "    <tr>\n",
       "      <th>2015-03-09</th>\n",
       "      <td>0.000582</td>\n",
       "      <td>0.004225</td>\n",
       "      <td>0.005843</td>\n",
       "      <td>-0.001652</td>\n",
       "    </tr>\n",
       "  </tbody>\n",
       "</table>\n",
       "</div>"
      ],
      "text/plain": [
       "               Soros   Paulson     Tiger  Berkshire\n",
       "Date                                               \n",
       "2015-03-03 -0.001266 -0.004981 -0.000496  -0.006569\n",
       "2015-03-04  0.002230  0.003241 -0.002534   0.004213\n",
       "2015-03-05  0.004016  0.004076  0.002355   0.006726\n",
       "2015-03-06 -0.007905 -0.003574 -0.008481  -0.013098\n",
       "2015-03-09  0.000582  0.004225  0.005843  -0.001652"
      ]
     },
     "execution_count": 30,
     "metadata": {},
     "output_type": "execute_result"
    }
   ],
   "source": [
    "whale_df.head()"
   ]
  },
  {
   "cell_type": "code",
   "execution_count": 31,
   "metadata": {},
   "outputs": [
    {
     "ename": "NameError",
     "evalue": "name 'daily_returns_algo' is not defined",
     "output_type": "error",
     "traceback": [
      "\u001b[0;31m---------------------------------------------------------------------------\u001b[0m",
      "\u001b[0;31mNameError\u001b[0m                                 Traceback (most recent call last)",
      "\u001b[0;32m<ipython-input-31-28581614b293>\u001b[0m in \u001b[0;36m<module>\u001b[0;34m\u001b[0m\n\u001b[0;32m----> 1\u001b[0;31m \u001b[0mdaily_returns_algo\u001b[0m\u001b[0;34m.\u001b[0m\u001b[0mhead\u001b[0m\u001b[0;34m(\u001b[0m\u001b[0;34m)\u001b[0m\u001b[0;34m\u001b[0m\u001b[0;34m\u001b[0m\u001b[0m\n\u001b[0m",
      "\u001b[0;31mNameError\u001b[0m: name 'daily_returns_algo' is not defined"
     ]
    }
   ],
   "source": [
    "daily_returns_algo.head()"
   ]
  },
  {
   "cell_type": "code",
   "execution_count": 32,
   "metadata": {},
   "outputs": [
    {
     "data": {
      "text/html": [
       "<div>\n",
       "<style scoped>\n",
       "    .dataframe tbody tr th:only-of-type {\n",
       "        vertical-align: middle;\n",
       "    }\n",
       "\n",
       "    .dataframe tbody tr th {\n",
       "        vertical-align: top;\n",
       "    }\n",
       "\n",
       "    .dataframe thead th {\n",
       "        text-align: right;\n",
       "    }\n",
       "</style>\n",
       "<table border=\"1\" class=\"dataframe\">\n",
       "  <thead>\n",
       "    <tr style=\"text-align: right;\">\n",
       "      <th></th>\n",
       "      <th>SP500 Returns</th>\n",
       "    </tr>\n",
       "    <tr>\n",
       "      <th>Date</th>\n",
       "      <th></th>\n",
       "    </tr>\n",
       "  </thead>\n",
       "  <tbody>\n",
       "    <tr>\n",
       "      <th>2019-04-22</th>\n",
       "      <td>-0.008764</td>\n",
       "    </tr>\n",
       "    <tr>\n",
       "      <th>2019-04-18</th>\n",
       "      <td>-0.001011</td>\n",
       "    </tr>\n",
       "    <tr>\n",
       "      <th>2019-04-17</th>\n",
       "      <td>-0.001577</td>\n",
       "    </tr>\n",
       "    <tr>\n",
       "      <th>2019-04-16</th>\n",
       "      <td>0.002279</td>\n",
       "    </tr>\n",
       "    <tr>\n",
       "      <th>2019-04-15</th>\n",
       "      <td>-0.000509</td>\n",
       "    </tr>\n",
       "  </tbody>\n",
       "</table>\n",
       "</div>"
      ],
      "text/plain": [
       "            SP500 Returns\n",
       "Date                     \n",
       "2019-04-22      -0.008764\n",
       "2019-04-18      -0.001011\n",
       "2019-04-17      -0.001577\n",
       "2019-04-16       0.002279\n",
       "2019-04-15      -0.000509"
      ]
     },
     "execution_count": 32,
     "metadata": {},
     "output_type": "execute_result"
    }
   ],
   "source": [
    "daily_returns_sp500.head()"
   ]
  },
  {
   "cell_type": "code",
   "execution_count": 33,
   "metadata": {},
   "outputs": [
    {
     "data": {
      "text/html": [
       "<div>\n",
       "<style scoped>\n",
       "    .dataframe tbody tr th:only-of-type {\n",
       "        vertical-align: middle;\n",
       "    }\n",
       "\n",
       "    .dataframe tbody tr th {\n",
       "        vertical-align: top;\n",
       "    }\n",
       "\n",
       "    .dataframe thead th {\n",
       "        text-align: right;\n",
       "    }\n",
       "</style>\n",
       "<table border=\"1\" class=\"dataframe\">\n",
       "  <thead>\n",
       "    <tr style=\"text-align: right;\">\n",
       "      <th></th>\n",
       "      <th>Soros</th>\n",
       "      <th>Paulson</th>\n",
       "      <th>Tiger</th>\n",
       "      <th>Berkshire</th>\n",
       "      <th>Algo 1</th>\n",
       "      <th>Algo 2</th>\n",
       "      <th>SP500 Returns</th>\n",
       "    </tr>\n",
       "    <tr>\n",
       "      <th>Date</th>\n",
       "      <th></th>\n",
       "      <th></th>\n",
       "      <th></th>\n",
       "      <th></th>\n",
       "      <th></th>\n",
       "      <th></th>\n",
       "      <th></th>\n",
       "    </tr>\n",
       "  </thead>\n",
       "  <tbody>\n",
       "    <tr>\n",
       "      <th>2015-03-03</th>\n",
       "      <td>-0.001266</td>\n",
       "      <td>-0.004981</td>\n",
       "      <td>-0.000496</td>\n",
       "      <td>-0.006569</td>\n",
       "      <td>-0.001942</td>\n",
       "      <td>-0.000949</td>\n",
       "      <td>0.004408</td>\n",
       "    </tr>\n",
       "    <tr>\n",
       "      <th>2015-03-04</th>\n",
       "      <td>0.002230</td>\n",
       "      <td>0.003241</td>\n",
       "      <td>-0.002534</td>\n",
       "      <td>0.004213</td>\n",
       "      <td>-0.008589</td>\n",
       "      <td>0.002416</td>\n",
       "      <td>-0.001195</td>\n",
       "    </tr>\n",
       "    <tr>\n",
       "      <th>2015-03-05</th>\n",
       "      <td>0.004016</td>\n",
       "      <td>0.004076</td>\n",
       "      <td>0.002355</td>\n",
       "      <td>0.006726</td>\n",
       "      <td>-0.000955</td>\n",
       "      <td>0.004323</td>\n",
       "      <td>0.014378</td>\n",
       "    </tr>\n",
       "    <tr>\n",
       "      <th>2015-03-06</th>\n",
       "      <td>-0.007905</td>\n",
       "      <td>-0.003574</td>\n",
       "      <td>-0.008481</td>\n",
       "      <td>-0.013098</td>\n",
       "      <td>-0.004957</td>\n",
       "      <td>-0.011460</td>\n",
       "      <td>-0.003929</td>\n",
       "    </tr>\n",
       "    <tr>\n",
       "      <th>2015-03-09</th>\n",
       "      <td>0.000582</td>\n",
       "      <td>0.004225</td>\n",
       "      <td>0.005843</td>\n",
       "      <td>-0.001652</td>\n",
       "      <td>-0.005447</td>\n",
       "      <td>0.001303</td>\n",
       "      <td>0.017254</td>\n",
       "    </tr>\n",
       "    <tr>\n",
       "      <th>...</th>\n",
       "      <td>...</td>\n",
       "      <td>...</td>\n",
       "      <td>...</td>\n",
       "      <td>...</td>\n",
       "      <td>...</td>\n",
       "      <td>...</td>\n",
       "      <td>...</td>\n",
       "    </tr>\n",
       "    <tr>\n",
       "      <th>2019-04-15</th>\n",
       "      <td>-0.001422</td>\n",
       "      <td>-0.001156</td>\n",
       "      <td>0.000398</td>\n",
       "      <td>-0.010492</td>\n",
       "      <td>-0.004331</td>\n",
       "      <td>-0.004572</td>\n",
       "      <td>-0.000509</td>\n",
       "    </tr>\n",
       "    <tr>\n",
       "      <th>2019-04-16</th>\n",
       "      <td>0.002699</td>\n",
       "      <td>0.000388</td>\n",
       "      <td>-0.000831</td>\n",
       "      <td>0.000837</td>\n",
       "      <td>-0.006945</td>\n",
       "      <td>0.002899</td>\n",
       "      <td>0.002279</td>\n",
       "    </tr>\n",
       "    <tr>\n",
       "      <th>2019-04-17</th>\n",
       "      <td>-0.002897</td>\n",
       "      <td>-0.006467</td>\n",
       "      <td>-0.004409</td>\n",
       "      <td>0.003222</td>\n",
       "      <td>-0.010301</td>\n",
       "      <td>-0.005228</td>\n",
       "      <td>-0.001577</td>\n",
       "    </tr>\n",
       "    <tr>\n",
       "      <th>2019-04-18</th>\n",
       "      <td>0.001448</td>\n",
       "      <td>0.001222</td>\n",
       "      <td>0.000582</td>\n",
       "      <td>0.001916</td>\n",
       "      <td>-0.000588</td>\n",
       "      <td>-0.001229</td>\n",
       "      <td>-0.001011</td>\n",
       "    </tr>\n",
       "    <tr>\n",
       "      <th>2019-04-22</th>\n",
       "      <td>-0.002586</td>\n",
       "      <td>-0.007333</td>\n",
       "      <td>-0.003640</td>\n",
       "      <td>-0.001088</td>\n",
       "      <td>0.000677</td>\n",
       "      <td>-0.001936</td>\n",
       "      <td>-0.008764</td>\n",
       "    </tr>\n",
       "  </tbody>\n",
       "</table>\n",
       "<p>1042 rows × 7 columns</p>\n",
       "</div>"
      ],
      "text/plain": [
       "               Soros   Paulson     Tiger  Berkshire    Algo 1    Algo 2  \\\n",
       "Date                                                                      \n",
       "2015-03-03 -0.001266 -0.004981 -0.000496  -0.006569 -0.001942 -0.000949   \n",
       "2015-03-04  0.002230  0.003241 -0.002534   0.004213 -0.008589  0.002416   \n",
       "2015-03-05  0.004016  0.004076  0.002355   0.006726 -0.000955  0.004323   \n",
       "2015-03-06 -0.007905 -0.003574 -0.008481  -0.013098 -0.004957 -0.011460   \n",
       "2015-03-09  0.000582  0.004225  0.005843  -0.001652 -0.005447  0.001303   \n",
       "...              ...       ...       ...        ...       ...       ...   \n",
       "2019-04-15 -0.001422 -0.001156  0.000398  -0.010492 -0.004331 -0.004572   \n",
       "2019-04-16  0.002699  0.000388 -0.000831   0.000837 -0.006945  0.002899   \n",
       "2019-04-17 -0.002897 -0.006467 -0.004409   0.003222 -0.010301 -0.005228   \n",
       "2019-04-18  0.001448  0.001222  0.000582   0.001916 -0.000588 -0.001229   \n",
       "2019-04-22 -0.002586 -0.007333 -0.003640  -0.001088  0.000677 -0.001936   \n",
       "\n",
       "            SP500 Returns  \n",
       "Date                       \n",
       "2015-03-03       0.004408  \n",
       "2015-03-04      -0.001195  \n",
       "2015-03-05       0.014378  \n",
       "2015-03-06      -0.003929  \n",
       "2015-03-09       0.017254  \n",
       "...                   ...  \n",
       "2019-04-15      -0.000509  \n",
       "2019-04-16       0.002279  \n",
       "2019-04-17      -0.001577  \n",
       "2019-04-18      -0.001011  \n",
       "2019-04-22      -0.008764  \n",
       "\n",
       "[1042 rows x 7 columns]"
      ]
     },
     "execution_count": 33,
     "metadata": {},
     "output_type": "execute_result"
    }
   ],
   "source": [
    "# Join Whale Returns, Algorithmic Returns, and the S&P 500 Returns into a single DataFrame with columns for each portfolio's returns.\n",
    "combined_data = pd.concat([whale_df, algo_df, daily_returns_sp500], axis='columns', join='inner')\n",
    "combined_data"
   ]
  },
  {
   "cell_type": "code",
   "execution_count": 34,
   "metadata": {},
   "outputs": [
    {
     "data": {
      "text/html": [
       "<div>\n",
       "<style scoped>\n",
       "    .dataframe tbody tr th:only-of-type {\n",
       "        vertical-align: middle;\n",
       "    }\n",
       "\n",
       "    .dataframe tbody tr th {\n",
       "        vertical-align: top;\n",
       "    }\n",
       "\n",
       "    .dataframe thead th {\n",
       "        text-align: right;\n",
       "    }\n",
       "</style>\n",
       "<table border=\"1\" class=\"dataframe\">\n",
       "  <thead>\n",
       "    <tr style=\"text-align: right;\">\n",
       "      <th></th>\n",
       "      <th>Soros</th>\n",
       "      <th>Paulson</th>\n",
       "      <th>Tiger</th>\n",
       "      <th>Berkshire</th>\n",
       "      <th>Algo 1</th>\n",
       "      <th>Algo 2</th>\n",
       "      <th>SP500 Returns</th>\n",
       "    </tr>\n",
       "    <tr>\n",
       "      <th>Date</th>\n",
       "      <th></th>\n",
       "      <th></th>\n",
       "      <th></th>\n",
       "      <th></th>\n",
       "      <th></th>\n",
       "      <th></th>\n",
       "      <th></th>\n",
       "    </tr>\n",
       "  </thead>\n",
       "  <tbody>\n",
       "    <tr>\n",
       "      <th>2015-03-03</th>\n",
       "      <td>-0.001266</td>\n",
       "      <td>-0.004981</td>\n",
       "      <td>-0.000496</td>\n",
       "      <td>-0.006569</td>\n",
       "      <td>-0.001942</td>\n",
       "      <td>-0.000949</td>\n",
       "      <td>0.004408</td>\n",
       "    </tr>\n",
       "    <tr>\n",
       "      <th>2015-03-04</th>\n",
       "      <td>0.002230</td>\n",
       "      <td>0.003241</td>\n",
       "      <td>-0.002534</td>\n",
       "      <td>0.004213</td>\n",
       "      <td>-0.008589</td>\n",
       "      <td>0.002416</td>\n",
       "      <td>-0.001195</td>\n",
       "    </tr>\n",
       "    <tr>\n",
       "      <th>2015-03-05</th>\n",
       "      <td>0.004016</td>\n",
       "      <td>0.004076</td>\n",
       "      <td>0.002355</td>\n",
       "      <td>0.006726</td>\n",
       "      <td>-0.000955</td>\n",
       "      <td>0.004323</td>\n",
       "      <td>0.014378</td>\n",
       "    </tr>\n",
       "    <tr>\n",
       "      <th>2015-03-06</th>\n",
       "      <td>-0.007905</td>\n",
       "      <td>-0.003574</td>\n",
       "      <td>-0.008481</td>\n",
       "      <td>-0.013098</td>\n",
       "      <td>-0.004957</td>\n",
       "      <td>-0.011460</td>\n",
       "      <td>-0.003929</td>\n",
       "    </tr>\n",
       "    <tr>\n",
       "      <th>2015-03-09</th>\n",
       "      <td>0.000582</td>\n",
       "      <td>0.004225</td>\n",
       "      <td>0.005843</td>\n",
       "      <td>-0.001652</td>\n",
       "      <td>-0.005447</td>\n",
       "      <td>0.001303</td>\n",
       "      <td>0.017254</td>\n",
       "    </tr>\n",
       "    <tr>\n",
       "      <th>...</th>\n",
       "      <td>...</td>\n",
       "      <td>...</td>\n",
       "      <td>...</td>\n",
       "      <td>...</td>\n",
       "      <td>...</td>\n",
       "      <td>...</td>\n",
       "      <td>...</td>\n",
       "    </tr>\n",
       "    <tr>\n",
       "      <th>2019-04-15</th>\n",
       "      <td>-0.001422</td>\n",
       "      <td>-0.001156</td>\n",
       "      <td>0.000398</td>\n",
       "      <td>-0.010492</td>\n",
       "      <td>-0.004331</td>\n",
       "      <td>-0.004572</td>\n",
       "      <td>-0.000509</td>\n",
       "    </tr>\n",
       "    <tr>\n",
       "      <th>2019-04-16</th>\n",
       "      <td>0.002699</td>\n",
       "      <td>0.000388</td>\n",
       "      <td>-0.000831</td>\n",
       "      <td>0.000837</td>\n",
       "      <td>-0.006945</td>\n",
       "      <td>0.002899</td>\n",
       "      <td>0.002279</td>\n",
       "    </tr>\n",
       "    <tr>\n",
       "      <th>2019-04-17</th>\n",
       "      <td>-0.002897</td>\n",
       "      <td>-0.006467</td>\n",
       "      <td>-0.004409</td>\n",
       "      <td>0.003222</td>\n",
       "      <td>-0.010301</td>\n",
       "      <td>-0.005228</td>\n",
       "      <td>-0.001577</td>\n",
       "    </tr>\n",
       "    <tr>\n",
       "      <th>2019-04-18</th>\n",
       "      <td>0.001448</td>\n",
       "      <td>0.001222</td>\n",
       "      <td>0.000582</td>\n",
       "      <td>0.001916</td>\n",
       "      <td>-0.000588</td>\n",
       "      <td>-0.001229</td>\n",
       "      <td>-0.001011</td>\n",
       "    </tr>\n",
       "    <tr>\n",
       "      <th>2019-04-22</th>\n",
       "      <td>-0.002586</td>\n",
       "      <td>-0.007333</td>\n",
       "      <td>-0.003640</td>\n",
       "      <td>-0.001088</td>\n",
       "      <td>0.000677</td>\n",
       "      <td>-0.001936</td>\n",
       "      <td>-0.008764</td>\n",
       "    </tr>\n",
       "  </tbody>\n",
       "</table>\n",
       "<p>1042 rows × 7 columns</p>\n",
       "</div>"
      ],
      "text/plain": [
       "               Soros   Paulson     Tiger  Berkshire    Algo 1    Algo 2  \\\n",
       "Date                                                                      \n",
       "2015-03-03 -0.001266 -0.004981 -0.000496  -0.006569 -0.001942 -0.000949   \n",
       "2015-03-04  0.002230  0.003241 -0.002534   0.004213 -0.008589  0.002416   \n",
       "2015-03-05  0.004016  0.004076  0.002355   0.006726 -0.000955  0.004323   \n",
       "2015-03-06 -0.007905 -0.003574 -0.008481  -0.013098 -0.004957 -0.011460   \n",
       "2015-03-09  0.000582  0.004225  0.005843  -0.001652 -0.005447  0.001303   \n",
       "...              ...       ...       ...        ...       ...       ...   \n",
       "2019-04-15 -0.001422 -0.001156  0.000398  -0.010492 -0.004331 -0.004572   \n",
       "2019-04-16  0.002699  0.000388 -0.000831   0.000837 -0.006945  0.002899   \n",
       "2019-04-17 -0.002897 -0.006467 -0.004409   0.003222 -0.010301 -0.005228   \n",
       "2019-04-18  0.001448  0.001222  0.000582   0.001916 -0.000588 -0.001229   \n",
       "2019-04-22 -0.002586 -0.007333 -0.003640  -0.001088  0.000677 -0.001936   \n",
       "\n",
       "            SP500 Returns  \n",
       "Date                       \n",
       "2015-03-03       0.004408  \n",
       "2015-03-04      -0.001195  \n",
       "2015-03-05       0.014378  \n",
       "2015-03-06      -0.003929  \n",
       "2015-03-09       0.017254  \n",
       "...                   ...  \n",
       "2019-04-15      -0.000509  \n",
       "2019-04-16       0.002279  \n",
       "2019-04-17      -0.001577  \n",
       "2019-04-18      -0.001011  \n",
       "2019-04-22      -0.008764  \n",
       "\n",
       "[1042 rows x 7 columns]"
      ]
     },
     "execution_count": 34,
     "metadata": {},
     "output_type": "execute_result"
    }
   ],
   "source": [
    "combined_data"
   ]
  },
  {
   "cell_type": "markdown",
   "metadata": {},
   "source": [
    "---"
   ]
  },
  {
   "cell_type": "markdown",
   "metadata": {},
   "source": [
    "# Conduct Quantitative Analysis\n",
    "\n",
    "In this section, you will calculate and visualize performance and risk metrics for the portfolios."
   ]
  },
  {
   "cell_type": "markdown",
   "metadata": {},
   "source": [
    "## Performance Anlysis\n",
    "\n",
    "#### Calculate and Plot the daily returns."
   ]
  },
  {
   "cell_type": "code",
   "execution_count": 35,
   "metadata": {},
   "outputs": [
    {
     "data": {
      "text/plain": [
       "<AxesSubplot:xlabel='Date'>"
      ]
     },
     "execution_count": 35,
     "metadata": {},
     "output_type": "execute_result"
    },
    {
     "data": {
      "image/png": "[encoded data removed]",
      "text/plain": [
       "<Figure size 432x288 with 1 Axes>"
      ]
     },
     "metadata": {
      "needs_background": "light"
     },
     "output_type": "display_data"
    }
   ],
   "source": [
    "# Plot daily returns of all portfolios\n",
    "combined_data.plot()"
   ]
  },
  {
   "cell_type": "markdown",
   "metadata": {},
   "source": [
    "#### Calculate and Plot cumulative returns."
   ]
  },
  {
   "cell_type": "code",
   "execution_count": 36,
   "metadata": {},
   "outputs": [
    {
     "data": {
      "text/plain": [
       "<AxesSubplot:title={'center':'Cumulative Returns of all Portfolios'}, xlabel='Date'>"
      ]
     },
     "execution_count": 36,
     "metadata": {},
     "output_type": "execute_result"
    },
    {
     "data": {
      "image/png": "[encoded data removed]",
      "text/plain": [
       "<Figure size 432x288 with 1 Axes>"
      ]
     },
     "metadata": {
      "needs_background": "light"
     },
     "output_type": "display_data"
    }
   ],
   "source": [
    "# Calculate cumulative returns of all portfolios\n",
    "cumulative_returns = (1 + combined_data).cumprod()\n",
    "\n",
    "# Plot cumulative returns\n",
    "cumulative_returns.plot(title = \"Cumulative Returns of all Portfolios\")"
   ]
  },
  {
   "cell_type": "markdown",
   "metadata": {},
   "source": [
    "---"
   ]
  },
  {
   "cell_type": "markdown",
   "metadata": {},
   "source": [
    "## Risk Analysis\n",
    "\n",
    "Determine the _risk_ of each portfolio:\n",
    "\n",
    "1. Create a box plot for each portfolio. \n",
    "2. Calculate the standard deviation for all portfolios\n",
    "4. Determine which portfolios are riskier than the S&P 500\n",
    "5. Calculate the Annualized Standard Deviation"
   ]
  },
  {
   "cell_type": "markdown",
   "metadata": {},
   "source": [
    "### Create a box plot for each portfolio\n"
   ]
  },
  {
   "cell_type": "code",
   "execution_count": 37,
   "metadata": {},
   "outputs": [
    {
     "data": {
      "text/plain": [
       "<AxesSubplot:>"
      ]
     },
     "execution_count": 37,
     "metadata": {},
     "output_type": "execute_result"
    },
    {
     "data": {
      "image/png": "[encoded data removed]",
      "text/plain": [
       "<Figure size 432x288 with 1 Axes>"
      ]
     },
     "metadata": {
      "needs_background": "light"
     },
     "output_type": "display_data"
    }
   ],
   "source": [
    "# Box plot to visually show risk\n",
    "cumulative_returns.boxplot()"
   ]
  },
  {
   "cell_type": "markdown",
   "metadata": {},
   "source": [
    "### Calculate Standard Deviations"
   ]
  },
  {
   "cell_type": "code",
   "execution_count": 38,
   "metadata": {},
   "outputs": [],
   "source": [
    "# Calculate the daily standard deviations of all portfolios\n",
    "std_all = cumulative_returns.std()"
   ]
  },
  {
   "cell_type": "markdown",
   "metadata": {},
   "source": [
    "### Determine which portfolios are riskier than the S&P 500"
   ]
  },
  {
   "cell_type": "code",
   "execution_count": 39,
   "metadata": {},
   "outputs": [],
   "source": [
    "# Calculate  the daily standard deviation of S&P 500\n",
    "daily_returns_sp500 = daily_returns_sp500.std()\n"
   ]
  },
  {
   "cell_type": "code",
   "execution_count": 40,
   "metadata": {},
   "outputs": [],
   "source": [
    "# Determine which portfolios are riskier than the S&P 500\n",
    "std_all = std_all.sort_values(ascending=False)"
   ]
  },
  {
   "cell_type": "markdown",
   "metadata": {},
   "source": [
    "### Calculate the Annualized Standard Deviation"
   ]
  },
  {
   "cell_type": "code",
   "execution_count": 41,
   "metadata": {},
   "outputs": [
    {
     "data": {
      "text/plain": [
       "Berkshire        3.831820\n",
       "Algo 1           3.679263\n",
       "Tiger            2.375658\n",
       "Algo 2           2.089756\n",
       "SP500 Returns    1.823124\n",
       "Paulson          1.404053\n",
       "Soros            1.161806\n",
       "dtype: float64"
      ]
     },
     "execution_count": 41,
     "metadata": {},
     "output_type": "execute_result"
    }
   ],
   "source": [
    "# Calculate the annualized standard deviation (252 trading days)\n",
    "std_annual = std_all * np.sqrt(252)\n",
    "std_annual"
   ]
  },
  {
   "cell_type": "markdown",
   "metadata": {},
   "source": [
    "---"
   ]
  },
  {
   "cell_type": "markdown",
   "metadata": {},
   "source": [
    "## Rolling Statistics\n",
    "\n",
    "Risk changes over time. Analyze the rolling statistics for Risk and Beta. \n",
    "\n",
    "1. Calculate and plot the rolling standard deviation for the S&P 500 using a 21-day window\n",
    "2. Calculate the correlation between each stock to determine which portfolios may mimick the S&P 500\n",
    "3. Choose one portfolio, then calculate and plot the 60-day rolling beta between it and the S&P 500"
   ]
  },
  {
   "cell_type": "markdown",
   "metadata": {},
   "source": [
    "### Calculate and plot rolling `std` for all portfolios with 21-day window"
   ]
  },
  {
   "cell_type": "code",
   "execution_count": 42,
   "metadata": {},
   "outputs": [
    {
     "data": {
      "text/plain": [
       "<AxesSubplot:>"
      ]
     },
     "execution_count": 42,
     "metadata": {},
     "output_type": "execute_result"
    },
    {
     "data": {
      "image/png": "[encoded data removed]",
      "text/plain": [
       "<Figure size 432x288 with 1 Axes>"
      ]
     },
     "metadata": {
      "needs_background": "light"
     },
     "output_type": "display_data"
    }
   ],
   "source": [
    "# Calculate the rolling standard deviation for all portfolios using a 21-day window\n",
    "\n",
    "# Plot the rolling standard deviation\n",
    "daily_returns_sp500.rolling(window=21).mean().plot()"
   ]
  },
  {
   "cell_type": "markdown",
   "metadata": {},
   "source": [
    "### Calculate and plot the correlation"
   ]
  },
  {
   "cell_type": "code",
   "execution_count": 43,
   "metadata": {},
   "outputs": [
    {
     "data": {
      "text/plain": [
       "<AxesSubplot:>"
      ]
     },
     "execution_count": 43,
     "metadata": {},
     "output_type": "execute_result"
    },
    {
     "data": {
      "image/png": "[encoded data removed]",
      "text/plain": [
       "<Figure size 432x288 with 2 Axes>"
      ]
     },
     "metadata": {
      "needs_background": "light"
     },
     "output_type": "display_data"
    }
   ],
   "source": [
    "import seaborn as sns\n",
    "%matplotlib inline\n",
    "\n",
    "# Calculate the correlation\n",
    "price_correlation = cumulative_returns.corr()\n",
    "\n",
    "# Display the correlation matrix\n",
    "sns.heatmap(price_correlation, vmin=-1, vmax=1)"
   ]
  },
  {
   "cell_type": "markdown",
   "metadata": {},
   "source": [
    "### Calculate and Plot Beta for a chosen portfolio and the S&P 500"
   ]
  },
  {
   "cell_type": "code",
   "execution_count": 56,
   "metadata": {},
   "outputs": [
    {
     "data": {
      "text/plain": [
       "Date\n",
       "2015-03-03         NaN\n",
       "2015-03-04         NaN\n",
       "2015-03-05         NaN\n",
       "2015-03-06         NaN\n",
       "2015-03-09         NaN\n",
       "                ...   \n",
       "2019-04-15   -0.000491\n",
       "2019-04-16   -0.000474\n",
       "2019-04-17   -0.000443\n",
       "2019-04-18   -0.000409\n",
       "2019-04-22   -0.000386\n",
       "Length: 1042, dtype: float64"
      ]
     },
     "execution_count": 56,
     "metadata": {},
     "output_type": "execute_result"
    }
   ],
   "source": [
    "# Calculate covariance of a single portfolio\n",
    "\n",
    "rolling_covariance = cumulative_returns['Soros'].rolling(window=60).cov(cumulative_returns['SP500 Returns'])\n",
    "rolling_covariance"
   ]
  },
  {
   "cell_type": "code",
   "execution_count": 57,
   "metadata": {},
   "outputs": [
    {
     "data": {
      "text/plain": [
       "Date\n",
       "2015-03-03         NaN\n",
       "2015-03-04         NaN\n",
       "2015-03-05         NaN\n",
       "2015-03-06         NaN\n",
       "2015-03-09         NaN\n",
       "                ...   \n",
       "2019-04-15    0.000417\n",
       "2019-04-16    0.000399\n",
       "2019-04-17    0.000382\n",
       "2019-04-18    0.000365\n",
       "2019-04-22    0.000361\n",
       "Name: SP500 Returns, Length: 1042, dtype: float64"
      ]
     },
     "execution_count": 57,
     "metadata": {},
     "output_type": "execute_result"
    }
   ],
   "source": [
    "# Calculate variance of S&P 500\n",
    "rolling_variance = cumulative_returns['SP500 Returns'].rolling(window=60).var()\n",
    "rolling_variance\n"
   ]
  },
  {
   "cell_type": "code",
   "execution_count": 58,
   "metadata": {},
   "outputs": [
    {
     "data": {
      "text/plain": [
       "0.0005275302230853064"
      ]
     },
     "execution_count": 58,
     "metadata": {},
     "output_type": "execute_result"
    }
   ],
   "source": [
    "# Computing beta\n",
    "soros_beta = covariance / variance\n",
    "soros_beta"
   ]
  },
  {
   "cell_type": "code",
   "execution_count": 59,
   "metadata": {},
   "outputs": [
    {
     "data": {
      "text/plain": [
       "<AxesSubplot:title={'center':'Rolling 30-Day Beta of Soros'}, xlabel='Date'>"
      ]
     },
     "execution_count": 59,
     "metadata": {},
     "output_type": "execute_result"
    },
    {
     "data": {
      "image/png": "[encoded data removed]",
      "text/plain": [
       "<Figure size 1440x720 with 1 Axes>"
      ]
     },
     "metadata": {
      "needs_background": "light"
     },
     "output_type": "display_data"
    }
   ],
   "source": [
    "# Plot beta trend\n",
    "rolling_beta = rolling_covariance / rolling_variance\n",
    "rolling_beta.plot(figsize=(20, 10), title='Rolling 30-Day Beta of Soros')"
   ]
  },
  {
   "cell_type": "markdown",
   "metadata": {},
   "source": [
    "## Rolling Statistics Challenge: Exponentially Weighted Average \n",
    "\n",
    "An alternative way to calculate a rolling window is to take the exponentially weighted moving average. This is like a moving window average, but it assigns greater importance to more recent observations. Try calculating the [`ewm`](https://pandas.pydata.org/pandas-docs/stable/reference/api/pandas.DataFrame.ewm.html) with a 21-day half-life."
   ]
  },
  {
   "cell_type": "code",
   "execution_count": 48,
   "metadata": {},
   "outputs": [],
   "source": [
    "# Use `ewm` to calculate the rolling window\n"
   ]
  },
  {
   "cell_type": "markdown",
   "metadata": {},
   "source": [
    "---"
   ]
  },
  {
   "cell_type": "markdown",
   "metadata": {},
   "source": [
    "# Sharpe Ratios\n",
    "In reality, investment managers and thier institutional investors look at the ratio of return-to-risk, and not just returns alone. After all, if you could invest in one of two portfolios, and each offered the same 10% return, yet one offered lower risk, you'd take that one, right?\n",
    "\n",
    "### Using the daily returns, calculate and visualize the Sharpe ratios using a bar plot"
   ]
  },
  {
   "cell_type": "code",
   "execution_count": 60,
   "metadata": {},
   "outputs": [
    {
     "data": {
      "text/plain": [
       "Soros            32.350185\n",
       "Paulson          -4.386913\n",
       "Tiger            26.271543\n",
       "Berkshire        17.011256\n",
       "Algo 1           33.416362\n",
       "Algo 2           22.453546\n",
       "SP500 Returns     0.000000\n",
       "dtype: float64"
      ]
     },
     "execution_count": 60,
     "metadata": {},
     "output_type": "execute_result"
    }
   ],
   "source": [
    "# Annualized Sharpe Ratios\n",
    "sharpe_ratios = ((cumulative_returns.mean()-cumulative_returns['SP500 Returns'].mean()) * 252) / (cumulative_returns.std() * np.sqrt(252))\n",
    "sharpe_ratios"
   ]
  },
  {
   "cell_type": "code",
   "execution_count": 61,
   "metadata": {},
   "outputs": [
    {
     "data": {
      "text/plain": [
       "<AxesSubplot:title={'center':'Sharpe Ratios S&P'}>"
      ]
     },
     "execution_count": 61,
     "metadata": {},
     "output_type": "execute_result"
    },
    {
     "data": {
      "image/png": "[encoded data removed]",
      "text/plain": [
       "<Figure size 432x288 with 1 Axes>"
      ]
     },
     "metadata": {
      "needs_background": "light"
     },
     "output_type": "display_data"
    }
   ],
   "source": [
    "# Visualize the sharpe ratios as a bar plot\n",
    "sharpe_ratios.plot(kind='bar', title=\"Sharpe Ratios S&P\")"
   ]
  },
  {
   "cell_type": "markdown",
   "metadata": {},
   "source": [
    "### Determine whether the algorithmic strategies outperform both the market (S&P 500) and the whales portfolios.\n",
    "\n",
    "Write your answer here!"
   ]
  },
  {
   "cell_type": "markdown",
   "metadata": {},
   "source": [
    "---"
   ]
  },
  {
   "cell_type": "markdown",
   "metadata": {},
   "source": [
    "# Create Custom Portfolio\n",
    "\n",
    "In this section, you will build your own portfolio of stocks, calculate the returns, and compare the results to the Whale Portfolios and the S&P 500. \n",
    "\n",
    "1. Choose 3-5 custom stocks with at last 1 year's worth of historic prices and create a DataFrame of the closing prices and dates for each stock.\n",
    "2. Calculate the weighted returns for the portfolio assuming an equal number of shares for each stock\n",
    "3. Join your portfolio returns to the DataFrame that contains all of the portfolio returns\n",
    "4. Re-run the performance and risk analysis with your portfolio to see how it compares to the others\n",
    "5. Include correlation analysis to determine which stocks (if any) are correlated"
   ]
  },
  {
   "cell_type": "markdown",
   "metadata": {},
   "source": [
    "## Choose 3-5 custom stocks with at last 1 year's worth of historic prices and create a DataFrame of the closing prices and dates for each stock.\n",
    "\n",
    "For this demo solution, we fetch data from three companies listes in the S&P 500 index.\n",
    "\n",
    "* `GOOG` - [Google, LLC](https://en.wikipedia.org/wiki/Google)\n",
    "\n",
    "* `AAPL` - [Apple Inc.](https://en.wikipedia.org/wiki/Apple_Inc.)\n",
    "\n",
    "* `COST` - [Costco Wholesale Corporation](https://en.wikipedia.org/wiki/Costco)"
   ]
  },
  {
   "cell_type": "code",
   "execution_count": 62,
   "metadata": {},
   "outputs": [],
   "source": [
    "# Reading data from 1st stock\n",
    "aapl_data_path = Path(\"Resources/aapl_historical.csv\")\n",
    "aapl_data_df = pd.read_csv(aapl_data_path, index_col = 'Trade DATE', parse_dates=True, infer_datetime_format=True)"
   ]
  },
  {
   "cell_type": "code",
   "execution_count": 63,
   "metadata": {},
   "outputs": [],
   "source": [
    "# Reading data from 2nd stock\n",
    "goog_data_path = Path(\"Resources/goog_historical.csv\")\n",
    "goog_data_df = pd.read_csv(goog_data_path, index_col = 'Trade DATE', parse_dates=True, infer_datetime_format=True)"
   ]
  },
  {
   "cell_type": "code",
   "execution_count": 64,
   "metadata": {},
   "outputs": [],
   "source": [
    "# Reading data from 3rd stock\n",
    "cost_data_path = Path(\"Resources/cost_historical.csv\")\n",
    "cost_data_df = pd.read_csv(cost_data_path, index_col = 'Trade DATE', parse_dates=True, infer_datetime_format=True)"
   ]
  },
  {
   "cell_type": "code",
   "execution_count": 65,
   "metadata": {},
   "outputs": [
    {
     "data": {
      "text/html": [
       "<div>\n",
       "<style scoped>\n",
       "    .dataframe tbody tr th:only-of-type {\n",
       "        vertical-align: middle;\n",
       "    }\n",
       "\n",
       "    .dataframe tbody tr th {\n",
       "        vertical-align: top;\n",
       "    }\n",
       "\n",
       "    .dataframe thead th {\n",
       "        text-align: right;\n",
       "    }\n",
       "</style>\n",
       "<table border=\"1\" class=\"dataframe\">\n",
       "  <thead>\n",
       "    <tr style=\"text-align: right;\">\n",
       "      <th></th>\n",
       "      <th>Symbol</th>\n",
       "      <th>NOCP</th>\n",
       "      <th>Symbol</th>\n",
       "      <th>NOCP</th>\n",
       "      <th>Symbol</th>\n",
       "      <th>NOCP</th>\n",
       "    </tr>\n",
       "    <tr>\n",
       "      <th>Trade DATE</th>\n",
       "      <th></th>\n",
       "      <th></th>\n",
       "      <th></th>\n",
       "      <th></th>\n",
       "      <th></th>\n",
       "      <th></th>\n",
       "    </tr>\n",
       "  </thead>\n",
       "  <tbody>\n",
       "    <tr>\n",
       "      <th>2019-05-09</th>\n",
       "      <td>AAPL</td>\n",
       "      <td>200.72</td>\n",
       "      <td>GOOG</td>\n",
       "      <td>1162.38</td>\n",
       "      <td>COST</td>\n",
       "      <td>243.47</td>\n",
       "    </tr>\n",
       "    <tr>\n",
       "      <th>2019-05-08</th>\n",
       "      <td>AAPL</td>\n",
       "      <td>202.90</td>\n",
       "      <td>GOOG</td>\n",
       "      <td>1166.27</td>\n",
       "      <td>COST</td>\n",
       "      <td>241.34</td>\n",
       "    </tr>\n",
       "    <tr>\n",
       "      <th>2019-05-07</th>\n",
       "      <td>AAPL</td>\n",
       "      <td>202.86</td>\n",
       "      <td>GOOG</td>\n",
       "      <td>1174.10</td>\n",
       "      <td>COST</td>\n",
       "      <td>240.18</td>\n",
       "    </tr>\n",
       "    <tr>\n",
       "      <th>2019-05-06</th>\n",
       "      <td>AAPL</td>\n",
       "      <td>208.48</td>\n",
       "      <td>GOOG</td>\n",
       "      <td>1189.39</td>\n",
       "      <td>COST</td>\n",
       "      <td>244.23</td>\n",
       "    </tr>\n",
       "    <tr>\n",
       "      <th>2019-05-03</th>\n",
       "      <td>AAPL</td>\n",
       "      <td>211.75</td>\n",
       "      <td>GOOG</td>\n",
       "      <td>1185.40</td>\n",
       "      <td>COST</td>\n",
       "      <td>244.62</td>\n",
       "    </tr>\n",
       "    <tr>\n",
       "      <th>...</th>\n",
       "      <td>...</td>\n",
       "      <td>...</td>\n",
       "      <td>...</td>\n",
       "      <td>...</td>\n",
       "      <td>...</td>\n",
       "      <td>...</td>\n",
       "    </tr>\n",
       "    <tr>\n",
       "      <th>2018-05-17</th>\n",
       "      <td>AAPL</td>\n",
       "      <td>186.99</td>\n",
       "      <td>GOOG</td>\n",
       "      <td>1078.59</td>\n",
       "      <td>COST</td>\n",
       "      <td>199.60</td>\n",
       "    </tr>\n",
       "    <tr>\n",
       "      <th>2018-05-16</th>\n",
       "      <td>AAPL</td>\n",
       "      <td>188.18</td>\n",
       "      <td>GOOG</td>\n",
       "      <td>1081.77</td>\n",
       "      <td>COST</td>\n",
       "      <td>198.71</td>\n",
       "    </tr>\n",
       "    <tr>\n",
       "      <th>2018-05-15</th>\n",
       "      <td>AAPL</td>\n",
       "      <td>186.44</td>\n",
       "      <td>GOOG</td>\n",
       "      <td>1079.23</td>\n",
       "      <td>COST</td>\n",
       "      <td>195.48</td>\n",
       "    </tr>\n",
       "    <tr>\n",
       "      <th>2018-05-14</th>\n",
       "      <td>AAPL</td>\n",
       "      <td>188.15</td>\n",
       "      <td>GOOG</td>\n",
       "      <td>1100.20</td>\n",
       "      <td>COST</td>\n",
       "      <td>195.88</td>\n",
       "    </tr>\n",
       "    <tr>\n",
       "      <th>2018-05-11</th>\n",
       "      <td>AAPL</td>\n",
       "      <td>188.59</td>\n",
       "      <td>GOOG</td>\n",
       "      <td>1098.26</td>\n",
       "      <td>COST</td>\n",
       "      <td>195.76</td>\n",
       "    </tr>\n",
       "  </tbody>\n",
       "</table>\n",
       "<p>250 rows × 6 columns</p>\n",
       "</div>"
      ],
      "text/plain": [
       "           Symbol    NOCP Symbol     NOCP Symbol    NOCP\n",
       "Trade DATE                                              \n",
       "2019-05-09   AAPL  200.72   GOOG  1162.38   COST  243.47\n",
       "2019-05-08   AAPL  202.90   GOOG  1166.27   COST  241.34\n",
       "2019-05-07   AAPL  202.86   GOOG  1174.10   COST  240.18\n",
       "2019-05-06   AAPL  208.48   GOOG  1189.39   COST  244.23\n",
       "2019-05-03   AAPL  211.75   GOOG  1185.40   COST  244.62\n",
       "...           ...     ...    ...      ...    ...     ...\n",
       "2018-05-17   AAPL  186.99   GOOG  1078.59   COST  199.60\n",
       "2018-05-16   AAPL  188.18   GOOG  1081.77   COST  198.71\n",
       "2018-05-15   AAPL  186.44   GOOG  1079.23   COST  195.48\n",
       "2018-05-14   AAPL  188.15   GOOG  1100.20   COST  195.88\n",
       "2018-05-11   AAPL  188.59   GOOG  1098.26   COST  195.76\n",
       "\n",
       "[250 rows x 6 columns]"
      ]
     },
     "execution_count": 65,
     "metadata": {},
     "output_type": "execute_result"
    }
   ],
   "source": [
    "# Combine all stocks in a single DataFrame\n",
    "combined_data = pd.concat([aapl_data_df, goog_data_df, cost_data_df], axis='columns', join='inner')\n",
    "combined_data"
   ]
  },
  {
   "cell_type": "code",
   "execution_count": 66,
   "metadata": {},
   "outputs": [],
   "source": [
    "# Reset Date index\n"
   ]
  },
  {
   "cell_type": "code",
   "execution_count": 67,
   "metadata": {},
   "outputs": [
    {
     "data": {
      "text/html": [
       "<div>\n",
       "<style scoped>\n",
       "    .dataframe tbody tr th:only-of-type {\n",
       "        vertical-align: middle;\n",
       "    }\n",
       "\n",
       "    .dataframe tbody tr th {\n",
       "        vertical-align: top;\n",
       "    }\n",
       "\n",
       "    .dataframe thead th {\n",
       "        text-align: right;\n",
       "    }\n",
       "</style>\n",
       "<table border=\"1\" class=\"dataframe\">\n",
       "  <thead>\n",
       "    <tr style=\"text-align: right;\">\n",
       "      <th></th>\n",
       "      <th>AAPL</th>\n",
       "      <th>GOOG</th>\n",
       "      <th>COST</th>\n",
       "    </tr>\n",
       "    <tr>\n",
       "      <th>Trade DATE</th>\n",
       "      <th></th>\n",
       "      <th></th>\n",
       "      <th></th>\n",
       "    </tr>\n",
       "  </thead>\n",
       "  <tbody>\n",
       "    <tr>\n",
       "      <th>2019-05-09</th>\n",
       "      <td>200.72</td>\n",
       "      <td>1162.38</td>\n",
       "      <td>243.47</td>\n",
       "    </tr>\n",
       "    <tr>\n",
       "      <th>2019-05-08</th>\n",
       "      <td>202.90</td>\n",
       "      <td>1166.27</td>\n",
       "      <td>241.34</td>\n",
       "    </tr>\n",
       "    <tr>\n",
       "      <th>2019-05-07</th>\n",
       "      <td>202.86</td>\n",
       "      <td>1174.10</td>\n",
       "      <td>240.18</td>\n",
       "    </tr>\n",
       "    <tr>\n",
       "      <th>2019-05-06</th>\n",
       "      <td>208.48</td>\n",
       "      <td>1189.39</td>\n",
       "      <td>244.23</td>\n",
       "    </tr>\n",
       "    <tr>\n",
       "      <th>2019-05-03</th>\n",
       "      <td>211.75</td>\n",
       "      <td>1185.40</td>\n",
       "      <td>244.62</td>\n",
       "    </tr>\n",
       "    <tr>\n",
       "      <th>...</th>\n",
       "      <td>...</td>\n",
       "      <td>...</td>\n",
       "      <td>...</td>\n",
       "    </tr>\n",
       "    <tr>\n",
       "      <th>2018-05-17</th>\n",
       "      <td>186.99</td>\n",
       "      <td>1078.59</td>\n",
       "      <td>199.60</td>\n",
       "    </tr>\n",
       "    <tr>\n",
       "      <th>2018-05-16</th>\n",
       "      <td>188.18</td>\n",
       "      <td>1081.77</td>\n",
       "      <td>198.71</td>\n",
       "    </tr>\n",
       "    <tr>\n",
       "      <th>2018-05-15</th>\n",
       "      <td>186.44</td>\n",
       "      <td>1079.23</td>\n",
       "      <td>195.48</td>\n",
       "    </tr>\n",
       "    <tr>\n",
       "      <th>2018-05-14</th>\n",
       "      <td>188.15</td>\n",
       "      <td>1100.20</td>\n",
       "      <td>195.88</td>\n",
       "    </tr>\n",
       "    <tr>\n",
       "      <th>2018-05-11</th>\n",
       "      <td>188.59</td>\n",
       "      <td>1098.26</td>\n",
       "      <td>195.76</td>\n",
       "    </tr>\n",
       "  </tbody>\n",
       "</table>\n",
       "<p>250 rows × 3 columns</p>\n",
       "</div>"
      ],
      "text/plain": [
       "              AAPL     GOOG    COST\n",
       "Trade DATE                         \n",
       "2019-05-09  200.72  1162.38  243.47\n",
       "2019-05-08  202.90  1166.27  241.34\n",
       "2019-05-07  202.86  1174.10  240.18\n",
       "2019-05-06  208.48  1189.39  244.23\n",
       "2019-05-03  211.75  1185.40  244.62\n",
       "...            ...      ...     ...\n",
       "2018-05-17  186.99  1078.59  199.60\n",
       "2018-05-16  188.18  1081.77  198.71\n",
       "2018-05-15  186.44  1079.23  195.48\n",
       "2018-05-14  188.15  1100.20  195.88\n",
       "2018-05-11  188.59  1098.26  195.76\n",
       "\n",
       "[250 rows x 3 columns]"
      ]
     },
     "execution_count": 67,
     "metadata": {},
     "output_type": "execute_result"
    }
   ],
   "source": [
    "# Reorganize portfolio data by having a column per symbol\n",
    "columns = ['delete aapl', \"AAPL\", 'delete goog', 'GOOG', 'delete cost',\"COST\"]\n",
    "combined_data.columns = columns\n",
    "combined_data.drop(columns=['delete aapl','delete goog','delete cost'], inplace=True)\n",
    "\n",
    "combined_data"
   ]
  },
  {
   "cell_type": "code",
   "execution_count": 68,
   "metadata": {},
   "outputs": [
    {
     "data": {
      "text/html": [
       "<div>\n",
       "<style scoped>\n",
       "    .dataframe tbody tr th:only-of-type {\n",
       "        vertical-align: middle;\n",
       "    }\n",
       "\n",
       "    .dataframe tbody tr th {\n",
       "        vertical-align: top;\n",
       "    }\n",
       "\n",
       "    .dataframe thead th {\n",
       "        text-align: right;\n",
       "    }\n",
       "</style>\n",
       "<table border=\"1\" class=\"dataframe\">\n",
       "  <thead>\n",
       "    <tr style=\"text-align: right;\">\n",
       "      <th></th>\n",
       "      <th>AAPL</th>\n",
       "      <th>GOOG</th>\n",
       "      <th>COST</th>\n",
       "    </tr>\n",
       "    <tr>\n",
       "      <th>Trade DATE</th>\n",
       "      <th></th>\n",
       "      <th></th>\n",
       "      <th></th>\n",
       "    </tr>\n",
       "  </thead>\n",
       "  <tbody>\n",
       "    <tr>\n",
       "      <th>2019-05-08</th>\n",
       "      <td>0.010861</td>\n",
       "      <td>0.003347</td>\n",
       "      <td>-0.008749</td>\n",
       "    </tr>\n",
       "    <tr>\n",
       "      <th>2019-05-07</th>\n",
       "      <td>-0.000197</td>\n",
       "      <td>0.006714</td>\n",
       "      <td>-0.004806</td>\n",
       "    </tr>\n",
       "    <tr>\n",
       "      <th>2019-05-06</th>\n",
       "      <td>0.027704</td>\n",
       "      <td>0.013023</td>\n",
       "      <td>0.016862</td>\n",
       "    </tr>\n",
       "    <tr>\n",
       "      <th>2019-05-03</th>\n",
       "      <td>0.015685</td>\n",
       "      <td>-0.003355</td>\n",
       "      <td>0.001597</td>\n",
       "    </tr>\n",
       "    <tr>\n",
       "      <th>2019-05-02</th>\n",
       "      <td>-0.012279</td>\n",
       "      <td>-0.019226</td>\n",
       "      <td>-0.007890</td>\n",
       "    </tr>\n",
       "  </tbody>\n",
       "</table>\n",
       "</div>"
      ],
      "text/plain": [
       "                AAPL      GOOG      COST\n",
       "Trade DATE                              \n",
       "2019-05-08  0.010861  0.003347 -0.008749\n",
       "2019-05-07 -0.000197  0.006714 -0.004806\n",
       "2019-05-06  0.027704  0.013023  0.016862\n",
       "2019-05-03  0.015685 -0.003355  0.001597\n",
       "2019-05-02 -0.012279 -0.019226 -0.007890"
      ]
     },
     "execution_count": 68,
     "metadata": {},
     "output_type": "execute_result"
    }
   ],
   "source": [
    "# Calculate daily returns\n",
    "combined_returns = combined_data.pct_change()\n",
    "combined_returns\n",
    "\n",
    "\n",
    "# Drop NAs\n",
    "combined_returns = combined_returns.dropna()\n",
    "\n",
    "# Display sample data\n",
    "combined_returns.head()"
   ]
  },
  {
   "cell_type": "markdown",
   "metadata": {},
   "source": [
    "## Calculate the weighted returns for the portfolio assuming an equal number of shares for each stock"
   ]
  },
  {
   "cell_type": "code",
   "execution_count": 69,
   "metadata": {},
   "outputs": [
    {
     "data": {
      "text/plain": [
       "Trade DATE\n",
       "2019-05-08    0.001820\n",
       "2019-05-07    0.000570\n",
       "2019-05-06    0.019196\n",
       "2019-05-03    0.004642\n",
       "2019-05-02   -0.013131\n",
       "dtype: float64"
      ]
     },
     "execution_count": 69,
     "metadata": {},
     "output_type": "execute_result"
    }
   ],
   "source": [
    "# Set weights\n",
    "weights = [1/3, 1/3, 1/3]\n",
    "\n",
    "# Calculate portfolio return\n",
    "portfolio_returns = combined_returns.dot(weights)\n",
    "\n",
    "# Display sample data\n",
    "portfolio_returns.head()"
   ]
  },
  {
   "cell_type": "markdown",
   "metadata": {},
   "source": [
    "## Join your portfolio returns to the DataFrame that contains all of the portfolio returns"
   ]
  },
  {
   "cell_type": "code",
   "execution_count": 70,
   "metadata": {},
   "outputs": [
    {
     "data": {
      "text/html": [
       "<div>\n",
       "<style scoped>\n",
       "    .dataframe tbody tr th:only-of-type {\n",
       "        vertical-align: middle;\n",
       "    }\n",
       "\n",
       "    .dataframe tbody tr th {\n",
       "        vertical-align: top;\n",
       "    }\n",
       "\n",
       "    .dataframe thead th {\n",
       "        text-align: right;\n",
       "    }\n",
       "</style>\n",
       "<table border=\"1\" class=\"dataframe\">\n",
       "  <thead>\n",
       "    <tr style=\"text-align: right;\">\n",
       "      <th></th>\n",
       "      <th>AAPL</th>\n",
       "      <th>GOOG</th>\n",
       "      <th>COST</th>\n",
       "      <th>PORTFOLIO</th>\n",
       "    </tr>\n",
       "    <tr>\n",
       "      <th>Trade DATE</th>\n",
       "      <th></th>\n",
       "      <th></th>\n",
       "      <th></th>\n",
       "      <th></th>\n",
       "    </tr>\n",
       "  </thead>\n",
       "  <tbody>\n",
       "    <tr>\n",
       "      <th>2019-05-08</th>\n",
       "      <td>0.010861</td>\n",
       "      <td>0.003347</td>\n",
       "      <td>-0.008749</td>\n",
       "      <td>0.001820</td>\n",
       "    </tr>\n",
       "    <tr>\n",
       "      <th>2019-05-07</th>\n",
       "      <td>-0.000197</td>\n",
       "      <td>0.006714</td>\n",
       "      <td>-0.004806</td>\n",
       "      <td>0.000570</td>\n",
       "    </tr>\n",
       "    <tr>\n",
       "      <th>2019-05-06</th>\n",
       "      <td>0.027704</td>\n",
       "      <td>0.013023</td>\n",
       "      <td>0.016862</td>\n",
       "      <td>0.019196</td>\n",
       "    </tr>\n",
       "    <tr>\n",
       "      <th>2019-05-03</th>\n",
       "      <td>0.015685</td>\n",
       "      <td>-0.003355</td>\n",
       "      <td>0.001597</td>\n",
       "      <td>0.004642</td>\n",
       "    </tr>\n",
       "    <tr>\n",
       "      <th>2019-05-02</th>\n",
       "      <td>-0.012279</td>\n",
       "      <td>-0.019226</td>\n",
       "      <td>-0.007890</td>\n",
       "      <td>-0.013131</td>\n",
       "    </tr>\n",
       "    <tr>\n",
       "      <th>...</th>\n",
       "      <td>...</td>\n",
       "      <td>...</td>\n",
       "      <td>...</td>\n",
       "      <td>...</td>\n",
       "    </tr>\n",
       "    <tr>\n",
       "      <th>2018-05-17</th>\n",
       "      <td>0.003650</td>\n",
       "      <td>0.011469</td>\n",
       "      <td>0.003217</td>\n",
       "      <td>0.006112</td>\n",
       "    </tr>\n",
       "    <tr>\n",
       "      <th>2018-05-16</th>\n",
       "      <td>0.006364</td>\n",
       "      <td>0.002948</td>\n",
       "      <td>-0.004459</td>\n",
       "      <td>0.001618</td>\n",
       "    </tr>\n",
       "    <tr>\n",
       "      <th>2018-05-15</th>\n",
       "      <td>-0.009246</td>\n",
       "      <td>-0.002348</td>\n",
       "      <td>-0.016255</td>\n",
       "      <td>-0.009283</td>\n",
       "    </tr>\n",
       "    <tr>\n",
       "      <th>2018-05-14</th>\n",
       "      <td>0.009172</td>\n",
       "      <td>0.019431</td>\n",
       "      <td>0.002046</td>\n",
       "      <td>0.010216</td>\n",
       "    </tr>\n",
       "    <tr>\n",
       "      <th>2018-05-11</th>\n",
       "      <td>0.002339</td>\n",
       "      <td>-0.001763</td>\n",
       "      <td>-0.000613</td>\n",
       "      <td>-0.000012</td>\n",
       "    </tr>\n",
       "  </tbody>\n",
       "</table>\n",
       "<p>249 rows × 4 columns</p>\n",
       "</div>"
      ],
      "text/plain": [
       "                AAPL      GOOG      COST  PORTFOLIO\n",
       "Trade DATE                                         \n",
       "2019-05-08  0.010861  0.003347 -0.008749   0.001820\n",
       "2019-05-07 -0.000197  0.006714 -0.004806   0.000570\n",
       "2019-05-06  0.027704  0.013023  0.016862   0.019196\n",
       "2019-05-03  0.015685 -0.003355  0.001597   0.004642\n",
       "2019-05-02 -0.012279 -0.019226 -0.007890  -0.013131\n",
       "...              ...       ...       ...        ...\n",
       "2018-05-17  0.003650  0.011469  0.003217   0.006112\n",
       "2018-05-16  0.006364  0.002948 -0.004459   0.001618\n",
       "2018-05-15 -0.009246 -0.002348 -0.016255  -0.009283\n",
       "2018-05-14  0.009172  0.019431  0.002046   0.010216\n",
       "2018-05-11  0.002339 -0.001763 -0.000613  -0.000012\n",
       "\n",
       "[249 rows x 4 columns]"
      ]
     },
     "execution_count": 70,
     "metadata": {},
     "output_type": "execute_result"
    }
   ],
   "source": [
    "# Join your returns DataFrame to the original returns DataFrame\n",
    "portfolio_df = pd.concat([combined_returns, portfolio_returns], axis='columns', join='inner')\n",
    "portfolio_df\n",
    "\n",
    "columns = [\"AAPL\", 'GOOG',\"COST\", \"PORTFOLIO\"]\n",
    "portfolio_df.columns = columns\n",
    "portfolio_df"
   ]
  },
  {
   "cell_type": "code",
   "execution_count": 71,
   "metadata": {},
   "outputs": [
    {
     "data": {
      "text/html": [
       "<div>\n",
       "<style scoped>\n",
       "    .dataframe tbody tr th:only-of-type {\n",
       "        vertical-align: middle;\n",
       "    }\n",
       "\n",
       "    .dataframe tbody tr th {\n",
       "        vertical-align: top;\n",
       "    }\n",
       "\n",
       "    .dataframe thead th {\n",
       "        text-align: right;\n",
       "    }\n",
       "</style>\n",
       "<table border=\"1\" class=\"dataframe\">\n",
       "  <thead>\n",
       "    <tr style=\"text-align: right;\">\n",
       "      <th></th>\n",
       "      <th>AAPL</th>\n",
       "      <th>GOOG</th>\n",
       "      <th>COST</th>\n",
       "      <th>PORTFOLIO</th>\n",
       "    </tr>\n",
       "    <tr>\n",
       "      <th>Trade DATE</th>\n",
       "      <th></th>\n",
       "      <th></th>\n",
       "      <th></th>\n",
       "      <th></th>\n",
       "    </tr>\n",
       "  </thead>\n",
       "  <tbody>\n",
       "    <tr>\n",
       "      <th>2019-05-08</th>\n",
       "      <td>0.010861</td>\n",
       "      <td>0.003347</td>\n",
       "      <td>-0.008749</td>\n",
       "      <td>0.001820</td>\n",
       "    </tr>\n",
       "    <tr>\n",
       "      <th>2019-05-07</th>\n",
       "      <td>-0.000197</td>\n",
       "      <td>0.006714</td>\n",
       "      <td>-0.004806</td>\n",
       "      <td>0.000570</td>\n",
       "    </tr>\n",
       "    <tr>\n",
       "      <th>2019-05-06</th>\n",
       "      <td>0.027704</td>\n",
       "      <td>0.013023</td>\n",
       "      <td>0.016862</td>\n",
       "      <td>0.019196</td>\n",
       "    </tr>\n",
       "    <tr>\n",
       "      <th>2019-05-03</th>\n",
       "      <td>0.015685</td>\n",
       "      <td>-0.003355</td>\n",
       "      <td>0.001597</td>\n",
       "      <td>0.004642</td>\n",
       "    </tr>\n",
       "    <tr>\n",
       "      <th>2019-05-02</th>\n",
       "      <td>-0.012279</td>\n",
       "      <td>-0.019226</td>\n",
       "      <td>-0.007890</td>\n",
       "      <td>-0.013131</td>\n",
       "    </tr>\n",
       "    <tr>\n",
       "      <th>...</th>\n",
       "      <td>...</td>\n",
       "      <td>...</td>\n",
       "      <td>...</td>\n",
       "      <td>...</td>\n",
       "    </tr>\n",
       "    <tr>\n",
       "      <th>2018-05-17</th>\n",
       "      <td>0.003650</td>\n",
       "      <td>0.011469</td>\n",
       "      <td>0.003217</td>\n",
       "      <td>0.006112</td>\n",
       "    </tr>\n",
       "    <tr>\n",
       "      <th>2018-05-16</th>\n",
       "      <td>0.006364</td>\n",
       "      <td>0.002948</td>\n",
       "      <td>-0.004459</td>\n",
       "      <td>0.001618</td>\n",
       "    </tr>\n",
       "    <tr>\n",
       "      <th>2018-05-15</th>\n",
       "      <td>-0.009246</td>\n",
       "      <td>-0.002348</td>\n",
       "      <td>-0.016255</td>\n",
       "      <td>-0.009283</td>\n",
       "    </tr>\n",
       "    <tr>\n",
       "      <th>2018-05-14</th>\n",
       "      <td>0.009172</td>\n",
       "      <td>0.019431</td>\n",
       "      <td>0.002046</td>\n",
       "      <td>0.010216</td>\n",
       "    </tr>\n",
       "    <tr>\n",
       "      <th>2018-05-11</th>\n",
       "      <td>0.002339</td>\n",
       "      <td>-0.001763</td>\n",
       "      <td>-0.000613</td>\n",
       "      <td>-0.000012</td>\n",
       "    </tr>\n",
       "  </tbody>\n",
       "</table>\n",
       "<p>249 rows × 4 columns</p>\n",
       "</div>"
      ],
      "text/plain": [
       "                AAPL      GOOG      COST  PORTFOLIO\n",
       "Trade DATE                                         \n",
       "2019-05-08  0.010861  0.003347 -0.008749   0.001820\n",
       "2019-05-07 -0.000197  0.006714 -0.004806   0.000570\n",
       "2019-05-06  0.027704  0.013023  0.016862   0.019196\n",
       "2019-05-03  0.015685 -0.003355  0.001597   0.004642\n",
       "2019-05-02 -0.012279 -0.019226 -0.007890  -0.013131\n",
       "...              ...       ...       ...        ...\n",
       "2018-05-17  0.003650  0.011469  0.003217   0.006112\n",
       "2018-05-16  0.006364  0.002948 -0.004459   0.001618\n",
       "2018-05-15 -0.009246 -0.002348 -0.016255  -0.009283\n",
       "2018-05-14  0.009172  0.019431  0.002046   0.010216\n",
       "2018-05-11  0.002339 -0.001763 -0.000613  -0.000012\n",
       "\n",
       "[249 rows x 4 columns]"
      ]
     },
     "execution_count": 71,
     "metadata": {},
     "output_type": "execute_result"
    }
   ],
   "source": [
    "# Only compare dates where return data exists for all the stocks (drop NaNs)\n",
    "portfolio_df = portfolio_df.dropna()\n",
    "portfolio_df"
   ]
  },
  {
   "cell_type": "markdown",
   "metadata": {},
   "source": [
    "## Re-run the risk analysis with your portfolio to see how it compares to the others"
   ]
  },
  {
   "cell_type": "markdown",
   "metadata": {},
   "source": [
    "### Calculate the Annualized Standard Deviation"
   ]
  },
  {
   "cell_type": "code",
   "execution_count": 72,
   "metadata": {},
   "outputs": [
    {
     "data": {
      "text/html": [
       "<div>\n",
       "<style scoped>\n",
       "    .dataframe tbody tr th:only-of-type {\n",
       "        vertical-align: middle;\n",
       "    }\n",
       "\n",
       "    .dataframe tbody tr th {\n",
       "        vertical-align: top;\n",
       "    }\n",
       "\n",
       "    .dataframe thead th {\n",
       "        text-align: right;\n",
       "    }\n",
       "</style>\n",
       "<table border=\"1\" class=\"dataframe\">\n",
       "  <thead>\n",
       "    <tr style=\"text-align: right;\">\n",
       "      <th></th>\n",
       "      <th>AAPL</th>\n",
       "      <th>GOOG</th>\n",
       "      <th>COST</th>\n",
       "      <th>PORTFOLIO</th>\n",
       "    </tr>\n",
       "    <tr>\n",
       "      <th>Trade DATE</th>\n",
       "      <th></th>\n",
       "      <th></th>\n",
       "      <th></th>\n",
       "      <th></th>\n",
       "    </tr>\n",
       "  </thead>\n",
       "  <tbody>\n",
       "    <tr>\n",
       "      <th>2019-05-08</th>\n",
       "      <td>0.172411</td>\n",
       "      <td>0.053125</td>\n",
       "      <td>-0.138878</td>\n",
       "      <td>0.028886</td>\n",
       "    </tr>\n",
       "    <tr>\n",
       "      <th>2019-05-07</th>\n",
       "      <td>-0.003130</td>\n",
       "      <td>0.106577</td>\n",
       "      <td>-0.076301</td>\n",
       "      <td>0.009049</td>\n",
       "    </tr>\n",
       "    <tr>\n",
       "      <th>2019-05-06</th>\n",
       "      <td>0.439785</td>\n",
       "      <td>0.206730</td>\n",
       "      <td>0.267682</td>\n",
       "      <td>0.304732</td>\n",
       "    </tr>\n",
       "    <tr>\n",
       "      <th>2019-05-03</th>\n",
       "      <td>0.248991</td>\n",
       "      <td>-0.053254</td>\n",
       "      <td>0.025349</td>\n",
       "      <td>0.073696</td>\n",
       "    </tr>\n",
       "    <tr>\n",
       "      <th>2019-05-02</th>\n",
       "      <td>-0.194917</td>\n",
       "      <td>-0.305197</td>\n",
       "      <td>-0.125247</td>\n",
       "      <td>-0.208453</td>\n",
       "    </tr>\n",
       "    <tr>\n",
       "      <th>...</th>\n",
       "      <td>...</td>\n",
       "      <td>...</td>\n",
       "      <td>...</td>\n",
       "      <td>...</td>\n",
       "    </tr>\n",
       "    <tr>\n",
       "      <th>2018-05-17</th>\n",
       "      <td>0.057939</td>\n",
       "      <td>0.182063</td>\n",
       "      <td>0.051064</td>\n",
       "      <td>0.097022</td>\n",
       "    </tr>\n",
       "    <tr>\n",
       "      <th>2018-05-16</th>\n",
       "      <td>0.101025</td>\n",
       "      <td>0.046803</td>\n",
       "      <td>-0.070783</td>\n",
       "      <td>0.025682</td>\n",
       "    </tr>\n",
       "    <tr>\n",
       "      <th>2018-05-15</th>\n",
       "      <td>-0.146783</td>\n",
       "      <td>-0.037273</td>\n",
       "      <td>-0.258038</td>\n",
       "      <td>-0.147365</td>\n",
       "    </tr>\n",
       "    <tr>\n",
       "      <th>2018-05-14</th>\n",
       "      <td>0.145599</td>\n",
       "      <td>0.308450</td>\n",
       "      <td>0.032483</td>\n",
       "      <td>0.162177</td>\n",
       "    </tr>\n",
       "    <tr>\n",
       "      <th>2018-05-11</th>\n",
       "      <td>0.037123</td>\n",
       "      <td>-0.027992</td>\n",
       "      <td>-0.009725</td>\n",
       "      <td>-0.000198</td>\n",
       "    </tr>\n",
       "  </tbody>\n",
       "</table>\n",
       "<p>249 rows × 4 columns</p>\n",
       "</div>"
      ],
      "text/plain": [
       "                AAPL      GOOG      COST  PORTFOLIO\n",
       "Trade DATE                                         \n",
       "2019-05-08  0.172411  0.053125 -0.138878   0.028886\n",
       "2019-05-07 -0.003130  0.106577 -0.076301   0.009049\n",
       "2019-05-06  0.439785  0.206730  0.267682   0.304732\n",
       "2019-05-03  0.248991 -0.053254  0.025349   0.073696\n",
       "2019-05-02 -0.194917 -0.305197 -0.125247  -0.208453\n",
       "...              ...       ...       ...        ...\n",
       "2018-05-17  0.057939  0.182063  0.051064   0.097022\n",
       "2018-05-16  0.101025  0.046803 -0.070783   0.025682\n",
       "2018-05-15 -0.146783 -0.037273 -0.258038  -0.147365\n",
       "2018-05-14  0.145599  0.308450  0.032483   0.162177\n",
       "2018-05-11  0.037123 -0.027992 -0.009725  -0.000198\n",
       "\n",
       "[249 rows x 4 columns]"
      ]
     },
     "execution_count": 72,
     "metadata": {},
     "output_type": "execute_result"
    }
   ],
   "source": [
    "# Calculate the annualized `std`\n",
    "annualized_std = portfolio_df * np.sqrt(252)\n",
    "annualized_std"
   ]
  },
  {
   "cell_type": "markdown",
   "metadata": {},
   "source": [
    "### Calculate and plot rolling `std` with 21-day window"
   ]
  },
  {
   "cell_type": "code",
   "execution_count": 73,
   "metadata": {},
   "outputs": [
    {
     "data": {
      "text/plain": [
       "<AxesSubplot:xlabel='Trade DATE'>"
      ]
     },
     "execution_count": 73,
     "metadata": {},
     "output_type": "execute_result"
    },
    {
     "data": {
      "image/png": "[encoded data removed]",
      "text/plain": [
       "<Figure size 432x288 with 1 Axes>"
      ]
     },
     "metadata": {
      "needs_background": "light"
     },
     "output_type": "display_data"
    }
   ],
   "source": [
    "# Calculate rolling standard deviation\n",
    "combined_returns.rolling(window=21).std().plot()\n",
    "\n",
    "\n",
    "# Plot rolling standard deviation\n"
   ]
  },
  {
   "cell_type": "markdown",
   "metadata": {},
   "source": [
    "### Calculate and plot the correlation"
   ]
  },
  {
   "cell_type": "code",
   "execution_count": 74,
   "metadata": {},
   "outputs": [
    {
     "data": {
      "text/plain": [
       "<AxesSubplot:>"
      ]
     },
     "execution_count": 74,
     "metadata": {},
     "output_type": "execute_result"
    },
    {
     "data": {
      "image/png": "[encoded data removed]",
      "text/plain": [
       "<Figure size 432x288 with 2 Axes>"
      ]
     },
     "metadata": {
      "needs_background": "light"
     },
     "output_type": "display_data"
    }
   ],
   "source": [
    "# Calculate and plot the correlation\n",
    "portfolio_correlation = portfolio_df.corr()\n",
    "\n",
    "sns.heatmap(portfolio_correlation, vmin=-1, vmax=1)"
   ]
  },
  {
   "cell_type": "markdown",
   "metadata": {},
   "source": [
    "### Calculate and Plot Rolling 60-day Beta for Your Portfolio compared to the S&P 500"
   ]
  },
  {
   "cell_type": "code",
   "execution_count": 80,
   "metadata": {},
   "outputs": [
    {
     "ename": "AttributeError",
     "evalue": "'numpy.float64' object has no attribute 'rolling'",
     "output_type": "error",
     "traceback": [
      "\u001b[0;31m---------------------------------------------------------------------------\u001b[0m",
      "\u001b[0;31mAttributeError\u001b[0m                            Traceback (most recent call last)",
      "\u001b[0;32m<ipython-input-80-947087dbb165>\u001b[0m in \u001b[0;36m<module>\u001b[0;34m\u001b[0m\n\u001b[1;32m      1\u001b[0m \u001b[0;31m# Calculate and plot Beta\u001b[0m\u001b[0;34m\u001b[0m\u001b[0;34m\u001b[0m\u001b[0;34m\u001b[0m\u001b[0m\n\u001b[0;32m----> 2\u001b[0;31m \u001b[0mvariance\u001b[0m \u001b[0;34m=\u001b[0m \u001b[0mdaily_returns_sp500\u001b[0m\u001b[0;34m[\u001b[0m\u001b[0;34m'SP500 Returns'\u001b[0m\u001b[0;34m]\u001b[0m\u001b[0;34m.\u001b[0m\u001b[0mrolling\u001b[0m\u001b[0;34m(\u001b[0m\u001b[0mwindow\u001b[0m\u001b[0;34m=\u001b[0m\u001b[0;36m60\u001b[0m\u001b[0;34m)\u001b[0m\u001b[0;34m.\u001b[0m\u001b[0mvar\u001b[0m\u001b[0;34m(\u001b[0m\u001b[0;34m)\u001b[0m\u001b[0;34m\u001b[0m\u001b[0;34m\u001b[0m\u001b[0m\n\u001b[0m\u001b[1;32m      3\u001b[0m \u001b[0mvariance\u001b[0m\u001b[0;34m\u001b[0m\u001b[0;34m\u001b[0m\u001b[0m\n\u001b[1;32m      4\u001b[0m \u001b[0;34m\u001b[0m\u001b[0m\n\u001b[1;32m      5\u001b[0m \u001b[0mcovariance\u001b[0m \u001b[0;34m=\u001b[0m \u001b[0mportfolio_df\u001b[0m\u001b[0;34m[\u001b[0m\u001b[0;34m'PORTFOLIO'\u001b[0m\u001b[0;34m]\u001b[0m\u001b[0;34m.\u001b[0m\u001b[0mrolling\u001b[0m\u001b[0;34m(\u001b[0m\u001b[0mwindow\u001b[0m\u001b[0;34m=\u001b[0m\u001b[0;36m60\u001b[0m\u001b[0;34m)\u001b[0m\u001b[0;34m.\u001b[0m\u001b[0mcov\u001b[0m\u001b[0;34m(\u001b[0m\u001b[0mdaily_returns_sp500\u001b[0m\u001b[0;34m[\u001b[0m\u001b[0;34m'SP500 Returns'\u001b[0m\u001b[0;34m]\u001b[0m\u001b[0;34m)\u001b[0m\u001b[0;34m\u001b[0m\u001b[0;34m\u001b[0m\u001b[0m\n",
      "\u001b[0;31mAttributeError\u001b[0m: 'numpy.float64' object has no attribute 'rolling'"
     ]
    }
   ],
   "source": [
    "# Calculate and plot Beta\n",
    "variance = daily_returns_sp500['SP500 Returns'].rolling(window=60).var()\n",
    "variance\n",
    "\n",
    "covariance = portfolio_df['PORTFOLIO'].rolling(window=60).cov(daily_returns_sp500['SP500 Returns'])\n",
    "covariance\n",
    "\n",
    "Port_beta = covariance / variance\n",
    "Port_beta\n",
    "\n",
    "\n",
    "Port_beta.plot(figsize=(20, 10), title='Rolling 30-Day Beta of Portfolio')"
   ]
  },
  {
   "cell_type": "markdown",
   "metadata": {},
   "source": [
    "### Using the daily returns, calculate and visualize the Sharpe ratios using a bar plot"
   ]
  },
  {
   "cell_type": "code",
   "execution_count": 76,
   "metadata": {},
   "outputs": [
    {
     "data": {
      "text/plain": [
       "AAPL        -0.061751\n",
       "GOOG        -0.084987\n",
       "COST        -0.929405\n",
       "PORTFOLIO   -0.376153\n",
       "dtype: float64"
      ]
     },
     "execution_count": 76,
     "metadata": {},
     "output_type": "execute_result"
    }
   ],
   "source": [
    "# Calculate Annualzied Sharpe Ratios\n",
    "sharpe_ratios = (portfolio_df.mean() * 252) / (portfolio_df.std() * np.sqrt(252))\n",
    "sharpe_ratios"
   ]
  },
  {
   "cell_type": "code",
   "execution_count": 77,
   "metadata": {},
   "outputs": [
    {
     "data": {
      "text/plain": [
       "<AxesSubplot:title={'center':'Sharpe Ratios'}>"
      ]
     },
     "execution_count": 77,
     "metadata": {},
     "output_type": "execute_result"
    },
    {
     "data": {
      "image/png": "[encoded data removed]",
      "text/plain": [
       "<Figure size 432x288 with 1 Axes>"
      ]
     },
     "metadata": {
      "needs_background": "light"
     },
     "output_type": "display_data"
    }
   ],
   "source": [
    "# Visualize the sharpe ratios as a bar plot\n",
    "sharpe_ratios.plot(kind=\"bar\", title=\"Sharpe Ratios\")"
   ]
  },
  {
   "cell_type": "markdown",
   "metadata": {},
   "source": [
    "### How does your portfolio do?\n",
    "\n",
    "Write your answer here!"
   ]
  },
  {
   "cell_type": "code",
   "execution_count": 79,
   "metadata": {},
   "outputs": [],
   "source": [
    "#Not well\n"
   ]
  },
  {
   "cell_type": "code",
   "execution_count": null,
   "metadata": {},
   "outputs": [],
   "source": []
  }
 ],
 "metadata": {
  "file_extension": ".py",
  "kernelspec": {
   "display_name": "Python 3",
   "language": "python",
   "name": "python3"
  },
  "language_info": {
   "codemirror_mode": {
    "name": "ipython",
    "version": 3
   },
   "file_extension": ".py",
   "mimetype": "text/x-python",
   "name": "python",
   "nbconvert_exporter": "python",
   "pygments_lexer": "ipython3",
   "version": "3.8.5"
  },
  "mimetype": "text/x-python",
  "name": "python",
  "npconvert_exporter": "python",
  "pygments_lexer": "ipython3",
  "version": 3
 },
 "nbformat": 4,
 "nbformat_minor": 4
}
